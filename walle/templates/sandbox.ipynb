{
 "cells": [
  {
   "cell_type": "code",
   "execution_count": 122,
   "metadata": {},
   "outputs": [
    {
     "name": "stdout",
     "output_type": "stream",
     "text": [
      "{}\n",
      "1 1\n",
      "2 2\n"
     ]
    },
    {
     "data": {
      "text/plain": [
       "2"
      ]
     },
     "execution_count": 122,
     "metadata": {},
     "output_type": "execute_result"
    }
   ],
   "source": [
    "%reset -f\n",
    "### DO NOT DELETE THIS\n",
    "class Wandb:\n",
    "    x = 1\n",
    "    g = '10'\n",
    "    max = property(lambda self: x.y)\n",
    "    \n",
    "class Max:\n",
    "    x = 1\n",
    "    y = property(lambda self: self.x)\n",
    "\n",
    "    wandb = Wandb()\n",
    "\n",
    "    @property\n",
    "    def dict(self,):\n",
    "        d = self._dict_from_cls(self)\n",
    "        for k,v in d.items():\n",
    "            if isinstance(v, Wandb):\n",
    "                d[k] = self._dict_from_cls(v)\n",
    "        return d\n",
    "        \n",
    "    @staticmethod\n",
    "    def _dict_from_cls(cls): # GETS ALL ATTRS AND PROPERTIES \n",
    "        ps = {k: getattr(cls, k) for k,v in super.__dict__.items() \n",
    "                    if isinstance(v, property) and not k=='dict'}\n",
    "        return cls.__dict__ | ps\n",
    "\n",
    "x = Max()\n",
    "print(x.__dict__)\n",
    "print(x.y, x.x)\n",
    "x.x += 1\n",
    "print(x.y, x.x)\n",
    "x.wandb.max\n"
   ]
  },
  {
   "cell_type": "code",
   "execution_count": 31,
   "metadata": {},
   "outputs": [
    {
     "data": {
      "text/plain": [
       "<property at 0x145dc9f4680>"
      ]
     },
     "execution_count": 31,
     "metadata": {},
     "output_type": "execute_result"
    }
   ],
   "source": [
    "%reset -f\n",
    "import numpy as np\n",
    "from walle.wutils import SubClass\n",
    "\n",
    "class wStats:\n",
    "    \"\"\" collects things \"\"\"\n",
    "\n",
    "    # with (w:=SubClass()):\n",
    "    class Slurm:\n",
    "        x = 1\n",
    "\n",
    "        @property\n",
    "        def y(self,):\n",
    "            return super(Slurm, self).y\n",
    "\n",
    "    y = 5\n",
    "    # def __init__(self) -> None:\n",
    "    #     pass\n",
    "\n",
    "    # @property\n",
    "    # def dict(self):\n",
    "    #     return self.__dict__\n",
    "    \n",
    "    # def __setattr__(self, k: str, v) -> None:\n",
    "    #     v = np.array(v).tolist()\n",
    "    #     if k not in self.dict.keys():\n",
    "    #         self.dict[k] = []\n",
    "    #     self.dict[k] += [v]\n",
    "\n",
    "    # def __getattr__(self, k: str):\n",
    "    #     return []\n",
    "\n",
    "x = wStats()\n",
    "x.Slurm.y\n",
    "# note: class declared in class is part of parent but can't call property"
   ]
  },
  {
   "cell_type": "code",
   "execution_count": null,
   "metadata": {},
   "outputs": [],
   "source": []
  },
  {
   "cell_type": "code",
   "execution_count": 13,
   "metadata": {},
   "outputs": [
    {
     "data": {
      "text/plain": [
       "100"
      ]
     },
     "execution_count": 13,
     "metadata": {},
     "output_type": "execute_result"
    }
   ],
   "source": [
    "class SubClass:\n",
    "    exp_name = 'max'\n",
    "    job_name:       str     = property(lambda self: self.exp_name)  # this calls the instance it is in\n",
    "    \"\"\"\n",
    "    %reset -f if testing in jupyter \"\"\"\n",
    "    def __init__(self):\n",
    "        pass\n",
    "\n",
    "    @property\n",
    "    def fn():\n",
    "        return 2 \n",
    "\n",
    "x = SubClass()\n",
    "x.exp_name = 100\n",
    "x.job_name\n"
   ]
  },
  {
   "cell_type": "code",
   "execution_count": 3,
   "metadata": {},
   "outputs": [
    {
     "name": "stdout",
     "output_type": "stream",
     "text": [
      "{'In': ['',\n",
      "        '_g = dict(globals().copy())\\n'\n",
      "        'y = 2\\n'\n",
      "        'from pprint import pprint\\n'\n",
      "        'pprint(dict(globals().copy()))\\n'\n",
      "        '{k:v for k,v in dict(globals().copy()).items() if not ((k in _g) or '\n",
      "        \"('_g' == k))}.keys()\\n\"\n",
      "        \"get_ipython().run_line_magic('reset', '-f')\",\n",
      "        \"get_ipython().run_line_magic('reset', '-f')\\n\"\n",
      "        '_g = dict(globals().copy())\\n'\n",
      "        'y = 2\\n'\n",
      "        'from pprint import pprint\\n'\n",
      "        'pprint(dict(globals().copy()))\\n'\n",
      "        '{k:v for k,v in dict(globals().copy()).items() if not ((k in _g) or '\n",
      "        \"('_g' == k))}.keys()\",\n",
      "        \"get_ipython().run_line_magic('reset', '-f')\\n\"\n",
      "        '_g = dict(globals().copy())\\n'\n",
      "        'y = 2\\n'\n",
      "        'from pprint import pprint\\n'\n",
      "        'pprint(dict(globals().copy()))\\n'\n",
      "        '{k:v for k,v in dict(globals().copy()).items() if not ((k in _g) or '\n",
      "        \"('_g' == k))}.keys()\"],\n",
      " 'Out': {},\n",
      " '__builtin__': <module 'builtins' (built-in)>,\n",
      " '__builtins__': <module 'builtins' (built-in)>,\n",
      " '__name__': '__main__',\n",
      " '_dh': [WindowsPath('c:/Users/max/OneDrive/sisy/walle/walle/templates')],\n",
      " '_g': {'In': ['',\n",
      "               '_g = dict(globals().copy())\\n'\n",
      "               'y = 2\\n'\n",
      "               'from pprint import pprint\\n'\n",
      "               'pprint(dict(globals().copy()))\\n'\n",
      "               '{k:v for k,v in dict(globals().copy()).items() if not ((k in '\n",
      "               \"_g) or ('_g' == k))}.keys()\\n\"\n",
      "               \"get_ipython().run_line_magic('reset', '-f')\",\n",
      "               \"get_ipython().run_line_magic('reset', '-f')\\n\"\n",
      "               '_g = dict(globals().copy())\\n'\n",
      "               'y = 2\\n'\n",
      "               'from pprint import pprint\\n'\n",
      "               'pprint(dict(globals().copy()))\\n'\n",
      "               '{k:v for k,v in dict(globals().copy()).items() if not ((k in '\n",
      "               \"_g) or ('_g' == k))}.keys()\",\n",
      "               \"get_ipython().run_line_magic('reset', '-f')\\n\"\n",
      "               '_g = dict(globals().copy())\\n'\n",
      "               'y = 2\\n'\n",
      "               'from pprint import pprint\\n'\n",
      "               'pprint(dict(globals().copy()))\\n'\n",
      "               '{k:v for k,v in dict(globals().copy()).items() if not ((k in '\n",
      "               \"_g) or ('_g' == k))}.keys()\"],\n",
      "        'Out': {},\n",
      "        '__builtin__': <module 'builtins' (built-in)>,\n",
      "        '__builtins__': <module 'builtins' (built-in)>,\n",
      "        '__name__': '__main__',\n",
      "        '_dh': [WindowsPath('c:/Users/max/OneDrive/sisy/walle/walle/templates')],\n",
      "        '_ih': ['',\n",
      "                '_g = dict(globals().copy())\\n'\n",
      "                'y = 2\\n'\n",
      "                'from pprint import pprint\\n'\n",
      "                'pprint(dict(globals().copy()))\\n'\n",
      "                '{k:v for k,v in dict(globals().copy()).items() if not ((k in '\n",
      "                \"_g) or ('_g' == k))}.keys()\\n\"\n",
      "                \"get_ipython().run_line_magic('reset', '-f')\",\n",
      "                \"get_ipython().run_line_magic('reset', '-f')\\n\"\n",
      "                '_g = dict(globals().copy())\\n'\n",
      "                'y = 2\\n'\n",
      "                'from pprint import pprint\\n'\n",
      "                'pprint(dict(globals().copy()))\\n'\n",
      "                '{k:v for k,v in dict(globals().copy()).items() if not ((k in '\n",
      "                \"_g) or ('_g' == k))}.keys()\",\n",
      "                \"get_ipython().run_line_magic('reset', '-f')\\n\"\n",
      "                '_g = dict(globals().copy())\\n'\n",
      "                'y = 2\\n'\n",
      "                'from pprint import pprint\\n'\n",
      "                'pprint(dict(globals().copy()))\\n'\n",
      "                '{k:v for k,v in dict(globals().copy()).items() if not ((k in '\n",
      "                \"_g) or ('_g' == k))}.keys()\"],\n",
      "        '_oh': {},\n",
      "        'exit': <IPython.core.autocall.ZMQExitAutocall object at 0x00000188081510F0>,\n",
      "        'get_ipython': <bound method InteractiveShell.get_ipython of <ipykernel.zmqshell.ZMQInteractiveShell object at 0x0000018808153850>>,\n",
      "        'quit': <IPython.core.autocall.ZMQExitAutocall object at 0x00000188081510F0>},\n",
      " '_ih': ['',\n",
      "         '_g = dict(globals().copy())\\n'\n",
      "         'y = 2\\n'\n",
      "         'from pprint import pprint\\n'\n",
      "         'pprint(dict(globals().copy()))\\n'\n",
      "         '{k:v for k,v in dict(globals().copy()).items() if not ((k in _g) or '\n",
      "         \"('_g' == k))}.keys()\\n\"\n",
      "         \"get_ipython().run_line_magic('reset', '-f')\",\n",
      "         \"get_ipython().run_line_magic('reset', '-f')\\n\"\n",
      "         '_g = dict(globals().copy())\\n'\n",
      "         'y = 2\\n'\n",
      "         'from pprint import pprint\\n'\n",
      "         'pprint(dict(globals().copy()))\\n'\n",
      "         '{k:v for k,v in dict(globals().copy()).items() if not ((k in _g) or '\n",
      "         \"('_g' == k))}.keys()\",\n",
      "         \"get_ipython().run_line_magic('reset', '-f')\\n\"\n",
      "         '_g = dict(globals().copy())\\n'\n",
      "         'y = 2\\n'\n",
      "         'from pprint import pprint\\n'\n",
      "         'pprint(dict(globals().copy()))\\n'\n",
      "         '{k:v for k,v in dict(globals().copy()).items() if not ((k in _g) or '\n",
      "         \"('_g' == k))}.keys()\"],\n",
      " '_oh': {},\n",
      " 'exit': <IPython.core.autocall.ZMQExitAutocall object at 0x00000188081510F0>,\n",
      " 'get_ipython': <bound method InteractiveShell.get_ipython of <ipykernel.zmqshell.ZMQInteractiveShell object at 0x0000018808153850>>,\n",
      " 'pprint': <function pprint at 0x00000188059FD360>,\n",
      " 'quit': <IPython.core.autocall.ZMQExitAutocall object at 0x00000188081510F0>,\n",
      " 'y': 2}\n"
     ]
    },
    {
     "data": {
      "text/plain": [
       "dict_keys(['y', 'pprint'])"
      ]
     },
     "execution_count": 3,
     "metadata": {},
     "output_type": "execute_result"
    }
   ],
   "source": [
    "\n",
    "_g = dict(globals().copy())\n",
    "y = 2\n",
    "from pprint import pprint\n",
    "pprint(dict(globals().copy()))\n"
   ]
  },
  {
   "cell_type": "code",
   "execution_count": 9,
   "metadata": {},
   "outputs": [
    {
     "data": {
      "text/plain": [
       "dict_items([('__name__', '__main__'), ('__doc__', 'Automatically created module for IPython interactive environment'), ('__package__', None), ('__loader__', None), ('__spec__', None), ('__builtin__', <module 'builtins' (built-in)>), ('__builtins__', <module 'builtins' (built-in)>), ('_ih', ['', 'class SubClass:\\n    def __init__(self):\\n        # TRACER POTENTIALLY INTERFERS WITH THIS?!\\n        pass\\n    def __enter__(self):\\n        _var = set(globals())\\n        self._var = _var\\n        return self\\n    def __exit__(self, *args):\\n        import copy\\n        _g = copy.copy(dict(globals().items()))\\n        print(_g)\\n        keys = [k for k in list(set(_g.keys()) - self._var)]\\n        for k in keys:\\n            setattr(self, k, copy.copy(_g[k]))\\n        return self', \"with SubClass() as wandb:\\n    entity:             str     = ''            # wandb entity\\n    job_type:           str     = 'training'\\n    x = 1\", \"with SubClass() as wandb:\\n    entity:             str     = ''            # wandb entity\\n    job_type:           str     = 'training'\\n    x = 1\", \"class SubClass:\\n    def __init__(self):\\n        # TRACER POTENTIALLY INTERFERS WITH THIS?!\\n        pass\\n    def __enter__(self):\\n        _var = set(globals())\\n        self._var = _var\\n        return self\\n\\n    def __exit__(self, *args):\\n        # import copy\\n        _g = {k:v for k,v in dict(globals().items()) if '__' not in k}\\n        print(_g)\\n        keys = [k for k in list(set(_g.keys()) - self._var)]\\n        for k in keys:\\n            setattr(self, k, copy.copy(_g[k]))\\n        return self\", \"class SubClass:\\n    def __init__(self):\\n        # TRACER POTENTIALLY INTERFERS WITH THIS?!\\n        pass\\n    def __enter__(self):\\n        _var = set(globals())\\n        self._var = _var\\n        return self\\n\\n    def __exit__(self, *args):\\n        # import copy\\n        _g = {k:v for k,v in dict(globals().items()) if '__' not in k}\\n        print(_g)\\n        keys = [k for k in list(set(_g.keys()) - self._var)]\\n        for k in keys:\\n            setattr(self, k, _g[k])\\n        return self\", \"class SubClass:\\n    def __init__(self):\\n        # TRACER POTENTIALLY INTERFERS WITH THIS?!\\n        pass\\n    def __enter__(self):\\n        _var = set(globals())\\n        self._var = _var\\n        return self\\n\\n    def __exit__(self, *args):\\n        # import copy\\n        _g = {k:v for k,v in dict(globals().items()) if '__' not in k}\\n        print(_g)\\n        keys = [k for k in list(set(_g.keys()) - self._var)]\\n        for k in keys:\\n            print(k)\\n            setattr(self, k, _g[k])\\n        return self\", \"with SubClass() as wandb:\\n    entity:             str     = ''            # wandb entity\\n    job_type:           str     = 'training'\\n    x = 1\", 'globals().items()', 'vars().items()']), ('_oh', {8: dict_items([('__name__', '__main__'), ('__doc__', 'Automatically created module for IPython interactive environment'), ('__package__', None), ('__loader__', None), ('__spec__', None), ('__builtin__', <module 'builtins' (built-in)>), ('__builtins__', <module 'builtins' (built-in)>), ('_ih', ['', 'class SubClass:\\n    def __init__(self):\\n        # TRACER POTENTIALLY INTERFERS WITH THIS?!\\n        pass\\n    def __enter__(self):\\n        _var = set(globals())\\n        self._var = _var\\n        return self\\n    def __exit__(self, *args):\\n        import copy\\n        _g = copy.copy(dict(globals().items()))\\n        print(_g)\\n        keys = [k for k in list(set(_g.keys()) - self._var)]\\n        for k in keys:\\n            setattr(self, k, copy.copy(_g[k]))\\n        return self', \"with SubClass() as wandb:\\n    entity:             str     = ''            # wandb entity\\n    job_type:           str     = 'training'\\n    x = 1\", \"with SubClass() as wandb:\\n    entity:             str     = ''            # wandb entity\\n    job_type:           str     = 'training'\\n    x = 1\", \"class SubClass:\\n    def __init__(self):\\n        # TRACER POTENTIALLY INTERFERS WITH THIS?!\\n        pass\\n    def __enter__(self):\\n        _var = set(globals())\\n        self._var = _var\\n        return self\\n\\n    def __exit__(self, *args):\\n        # import copy\\n        _g = {k:v for k,v in dict(globals().items()) if '__' not in k}\\n        print(_g)\\n        keys = [k for k in list(set(_g.keys()) - self._var)]\\n        for k in keys:\\n            setattr(self, k, copy.copy(_g[k]))\\n        return self\", \"class SubClass:\\n    def __init__(self):\\n        # TRACER POTENTIALLY INTERFERS WITH THIS?!\\n        pass\\n    def __enter__(self):\\n        _var = set(globals())\\n        self._var = _var\\n        return self\\n\\n    def __exit__(self, *args):\\n        # import copy\\n        _g = {k:v for k,v in dict(globals().items()) if '__' not in k}\\n        print(_g)\\n        keys = [k for k in list(set(_g.keys()) - self._var)]\\n        for k in keys:\\n            setattr(self, k, _g[k])\\n        return self\", \"class SubClass:\\n    def __init__(self):\\n        # TRACER POTENTIALLY INTERFERS WITH THIS?!\\n        pass\\n    def __enter__(self):\\n        _var = set(globals())\\n        self._var = _var\\n        return self\\n\\n    def __exit__(self, *args):\\n        # import copy\\n        _g = {k:v for k,v in dict(globals().items()) if '__' not in k}\\n        print(_g)\\n        keys = [k for k in list(set(_g.keys()) - self._var)]\\n        for k in keys:\\n            print(k)\\n            setattr(self, k, _g[k])\\n        return self\", \"with SubClass() as wandb:\\n    entity:             str     = ''            # wandb entity\\n    job_type:           str     = 'training'\\n    x = 1\", 'globals().items()', 'vars().items()']), ('_oh', {...}), ('_dh', [WindowsPath('c:/Users/max/OneDrive/sisy/walle/walle/templates')]), ('In', ['', 'class SubClass:\\n    def __init__(self):\\n        # TRACER POTENTIALLY INTERFERS WITH THIS?!\\n        pass\\n    def __enter__(self):\\n        _var = set(globals())\\n        self._var = _var\\n        return self\\n    def __exit__(self, *args):\\n        import copy\\n        _g = copy.copy(dict(globals().items()))\\n        print(_g)\\n        keys = [k for k in list(set(_g.keys()) - self._var)]\\n        for k in keys:\\n            setattr(self, k, copy.copy(_g[k]))\\n        return self', \"with SubClass() as wandb:\\n    entity:             str     = ''            # wandb entity\\n    job_type:           str     = 'training'\\n    x = 1\", \"with SubClass() as wandb:\\n    entity:             str     = ''            # wandb entity\\n    job_type:           str     = 'training'\\n    x = 1\", \"class SubClass:\\n    def __init__(self):\\n        # TRACER POTENTIALLY INTERFERS WITH THIS?!\\n        pass\\n    def __enter__(self):\\n        _var = set(globals())\\n        self._var = _var\\n        return self\\n\\n    def __exit__(self, *args):\\n        # import copy\\n        _g = {k:v for k,v in dict(globals().items()) if '__' not in k}\\n        print(_g)\\n        keys = [k for k in list(set(_g.keys()) - self._var)]\\n        for k in keys:\\n            setattr(self, k, copy.copy(_g[k]))\\n        return self\", \"class SubClass:\\n    def __init__(self):\\n        # TRACER POTENTIALLY INTERFERS WITH THIS?!\\n        pass\\n    def __enter__(self):\\n        _var = set(globals())\\n        self._var = _var\\n        return self\\n\\n    def __exit__(self, *args):\\n        # import copy\\n        _g = {k:v for k,v in dict(globals().items()) if '__' not in k}\\n        print(_g)\\n        keys = [k for k in list(set(_g.keys()) - self._var)]\\n        for k in keys:\\n            setattr(self, k, _g[k])\\n        return self\", \"class SubClass:\\n    def __init__(self):\\n        # TRACER POTENTIALLY INTERFERS WITH THIS?!\\n        pass\\n    def __enter__(self):\\n        _var = set(globals())\\n        self._var = _var\\n        return self\\n\\n    def __exit__(self, *args):\\n        # import copy\\n        _g = {k:v for k,v in dict(globals().items()) if '__' not in k}\\n        print(_g)\\n        keys = [k for k in list(set(_g.keys()) - self._var)]\\n        for k in keys:\\n            print(k)\\n            setattr(self, k, _g[k])\\n        return self\", \"with SubClass() as wandb:\\n    entity:             str     = ''            # wandb entity\\n    job_type:           str     = 'training'\\n    x = 1\", 'globals().items()', 'vars().items()']), ('Out', {...}), ('get_ipython', <bound method InteractiveShell.get_ipython of <ipykernel.zmqshell.ZMQInteractiveShell object at 0x0000022370073850>>), ('exit', <IPython.core.autocall.ZMQExitAutocall object at 0x00000223700710F0>), ('quit', <IPython.core.autocall.ZMQExitAutocall object at 0x00000223700710F0>), ('_', ...), ('__', ''), ('___', ''), ('sys', <module 'sys' (built-in)>), ('os', <module 'os' from 'c:\\\\Users\\\\max\\\\miniconda3\\\\envs\\\\hotseat\\\\lib\\\\os.py'>), ('__vsc_ipynb_file__', 'c:\\\\Users\\\\max\\\\OneDrive\\\\sisy\\\\walle\\\\walle\\\\templates\\\\sandbox.ipynb'), ('_i', 'globals().items()'), ('_ii', \"with SubClass() as wandb:\\n    entity:             str     = ''            # wandb entity\\n    job_type:           str     = 'training'\\n    x = 1\"), ('_iii', \"class SubClass:\\n    def __init__(self):\\n        # TRACER POTENTIALLY INTERFERS WITH THIS?!\\n        pass\\n    def __enter__(self):\\n        _var = set(globals())\\n        self._var = _var\\n        return self\\n\\n    def __exit__(self, *args):\\n        # import copy\\n        _g = {k:v for k,v in dict(globals().items()) if '__' not in k}\\n        print(_g)\\n        keys = [k for k in list(set(_g.keys()) - self._var)]\\n        for k in keys:\\n            print(k)\\n            setattr(self, k, _g[k])\\n        return self\"), ('_i1', 'class SubClass:\\n    def __init__(self):\\n        # TRACER POTENTIALLY INTERFERS WITH THIS?!\\n        pass\\n    def __enter__(self):\\n        _var = set(globals())\\n        self._var = _var\\n        return self\\n    def __exit__(self, *args):\\n        import copy\\n        _g = copy.copy(dict(globals().items()))\\n        print(_g)\\n        keys = [k for k in list(set(_g.keys()) - self._var)]\\n        for k in keys:\\n            setattr(self, k, copy.copy(_g[k]))\\n        return self'), ('SubClass', <class '__main__.SubClass'>), ('_i2', \"\\nwith SubClass() as wandb:\\n    entity:             str     = ''            # wandb entity\\n    job_type:           str     = 'training'\\n    x = 1\"), ('__annotations__', {'entity': <class 'str'>, 'job_type': <class 'str'>}), ('wandb', <__main__.SubClass object at 0x0000022370E3BD30>), ('entity', ''), ('job_type', 'training'), ('x', 1), ('_i3', \"\\nwith SubClass() as wandb:\\n    entity:             str     = ''            # wandb entity\\n    job_type:           str     = 'training'\\n    x = 1\"), ('_i4', \"class SubClass:\\n    def __init__(self):\\n        # TRACER POTENTIALLY INTERFERS WITH THIS?!\\n        pass\\n    def __enter__(self):\\n        _var = set(globals())\\n        self._var = _var\\n        return self\\n\\n    def __exit__(self, *args):\\n        # import copy\\n        _g = {k:v for k,v in dict(globals().items()) if '__' not in k}\\n        print(_g)\\n        keys = [k for k in list(set(_g.keys()) - self._var)]\\n        for k in keys:\\n            setattr(self, k, copy.copy(_g[k]))\\n        return self\"), ('_i5', \"class SubClass:\\n    def __init__(self):\\n        # TRACER POTENTIALLY INTERFERS WITH THIS?!\\n        pass\\n    def __enter__(self):\\n        _var = set(globals())\\n        self._var = _var\\n        return self\\n\\n    def __exit__(self, *args):\\n        # import copy\\n        _g = {k:v for k,v in dict(globals().items()) if '__' not in k}\\n        print(_g)\\n        keys = [k for k in list(set(_g.keys()) - self._var)]\\n        for k in keys:\\n            setattr(self, k, _g[k])\\n        return self\"), ('_i6', \"class SubClass:\\n    def __init__(self):\\n        # TRACER POTENTIALLY INTERFERS WITH THIS?!\\n        pass\\n    def __enter__(self):\\n        _var = set(globals())\\n        self._var = _var\\n        return self\\n\\n    def __exit__(self, *args):\\n        # import copy\\n        _g = {k:v for k,v in dict(globals().items()) if '__' not in k}\\n        print(_g)\\n        keys = [k for k in list(set(_g.keys()) - self._var)]\\n        for k in keys:\\n            print(k)\\n            setattr(self, k, _g[k])\\n        return self\"), ('_i7', \"with SubClass() as wandb:\\n    entity:             str     = ''            # wandb entity\\n    job_type:           str     = 'training'\\n    x = 1\"), ('_i8', 'globals().items()'), ('_8', ...), ('_i9', 'vars().items()')])}), ('_dh', [WindowsPath('c:/Users/max/OneDrive/sisy/walle/walle/templates')]), ('In', ['', 'class SubClass:\\n    def __init__(self):\\n        # TRACER POTENTIALLY INTERFERS WITH THIS?!\\n        pass\\n    def __enter__(self):\\n        _var = set(globals())\\n        self._var = _var\\n        return self\\n    def __exit__(self, *args):\\n        import copy\\n        _g = copy.copy(dict(globals().items()))\\n        print(_g)\\n        keys = [k for k in list(set(_g.keys()) - self._var)]\\n        for k in keys:\\n            setattr(self, k, copy.copy(_g[k]))\\n        return self', \"with SubClass() as wandb:\\n    entity:             str     = ''            # wandb entity\\n    job_type:           str     = 'training'\\n    x = 1\", \"with SubClass() as wandb:\\n    entity:             str     = ''            # wandb entity\\n    job_type:           str     = 'training'\\n    x = 1\", \"class SubClass:\\n    def __init__(self):\\n        # TRACER POTENTIALLY INTERFERS WITH THIS?!\\n        pass\\n    def __enter__(self):\\n        _var = set(globals())\\n        self._var = _var\\n        return self\\n\\n    def __exit__(self, *args):\\n        # import copy\\n        _g = {k:v for k,v in dict(globals().items()) if '__' not in k}\\n        print(_g)\\n        keys = [k for k in list(set(_g.keys()) - self._var)]\\n        for k in keys:\\n            setattr(self, k, copy.copy(_g[k]))\\n        return self\", \"class SubClass:\\n    def __init__(self):\\n        # TRACER POTENTIALLY INTERFERS WITH THIS?!\\n        pass\\n    def __enter__(self):\\n        _var = set(globals())\\n        self._var = _var\\n        return self\\n\\n    def __exit__(self, *args):\\n        # import copy\\n        _g = {k:v for k,v in dict(globals().items()) if '__' not in k}\\n        print(_g)\\n        keys = [k for k in list(set(_g.keys()) - self._var)]\\n        for k in keys:\\n            setattr(self, k, _g[k])\\n        return self\", \"class SubClass:\\n    def __init__(self):\\n        # TRACER POTENTIALLY INTERFERS WITH THIS?!\\n        pass\\n    def __enter__(self):\\n        _var = set(globals())\\n        self._var = _var\\n        return self\\n\\n    def __exit__(self, *args):\\n        # import copy\\n        _g = {k:v for k,v in dict(globals().items()) if '__' not in k}\\n        print(_g)\\n        keys = [k for k in list(set(_g.keys()) - self._var)]\\n        for k in keys:\\n            print(k)\\n            setattr(self, k, _g[k])\\n        return self\", \"with SubClass() as wandb:\\n    entity:             str     = ''            # wandb entity\\n    job_type:           str     = 'training'\\n    x = 1\", 'globals().items()', 'vars().items()']), ('Out', {8: dict_items([('__name__', '__main__'), ('__doc__', 'Automatically created module for IPython interactive environment'), ('__package__', None), ('__loader__', None), ('__spec__', None), ('__builtin__', <module 'builtins' (built-in)>), ('__builtins__', <module 'builtins' (built-in)>), ('_ih', ['', 'class SubClass:\\n    def __init__(self):\\n        # TRACER POTENTIALLY INTERFERS WITH THIS?!\\n        pass\\n    def __enter__(self):\\n        _var = set(globals())\\n        self._var = _var\\n        return self\\n    def __exit__(self, *args):\\n        import copy\\n        _g = copy.copy(dict(globals().items()))\\n        print(_g)\\n        keys = [k for k in list(set(_g.keys()) - self._var)]\\n        for k in keys:\\n            setattr(self, k, copy.copy(_g[k]))\\n        return self', \"with SubClass() as wandb:\\n    entity:             str     = ''            # wandb entity\\n    job_type:           str     = 'training'\\n    x = 1\", \"with SubClass() as wandb:\\n    entity:             str     = ''            # wandb entity\\n    job_type:           str     = 'training'\\n    x = 1\", \"class SubClass:\\n    def __init__(self):\\n        # TRACER POTENTIALLY INTERFERS WITH THIS?!\\n        pass\\n    def __enter__(self):\\n        _var = set(globals())\\n        self._var = _var\\n        return self\\n\\n    def __exit__(self, *args):\\n        # import copy\\n        _g = {k:v for k,v in dict(globals().items()) if '__' not in k}\\n        print(_g)\\n        keys = [k for k in list(set(_g.keys()) - self._var)]\\n        for k in keys:\\n            setattr(self, k, copy.copy(_g[k]))\\n        return self\", \"class SubClass:\\n    def __init__(self):\\n        # TRACER POTENTIALLY INTERFERS WITH THIS?!\\n        pass\\n    def __enter__(self):\\n        _var = set(globals())\\n        self._var = _var\\n        return self\\n\\n    def __exit__(self, *args):\\n        # import copy\\n        _g = {k:v for k,v in dict(globals().items()) if '__' not in k}\\n        print(_g)\\n        keys = [k for k in list(set(_g.keys()) - self._var)]\\n        for k in keys:\\n            setattr(self, k, _g[k])\\n        return self\", \"class SubClass:\\n    def __init__(self):\\n        # TRACER POTENTIALLY INTERFERS WITH THIS?!\\n        pass\\n    def __enter__(self):\\n        _var = set(globals())\\n        self._var = _var\\n        return self\\n\\n    def __exit__(self, *args):\\n        # import copy\\n        _g = {k:v for k,v in dict(globals().items()) if '__' not in k}\\n        print(_g)\\n        keys = [k for k in list(set(_g.keys()) - self._var)]\\n        for k in keys:\\n            print(k)\\n            setattr(self, k, _g[k])\\n        return self\", \"with SubClass() as wandb:\\n    entity:             str     = ''            # wandb entity\\n    job_type:           str     = 'training'\\n    x = 1\", 'globals().items()', 'vars().items()']), ('_oh', {...}), ('_dh', [WindowsPath('c:/Users/max/OneDrive/sisy/walle/walle/templates')]), ('In', ['', 'class SubClass:\\n    def __init__(self):\\n        # TRACER POTENTIALLY INTERFERS WITH THIS?!\\n        pass\\n    def __enter__(self):\\n        _var = set(globals())\\n        self._var = _var\\n        return self\\n    def __exit__(self, *args):\\n        import copy\\n        _g = copy.copy(dict(globals().items()))\\n        print(_g)\\n        keys = [k for k in list(set(_g.keys()) - self._var)]\\n        for k in keys:\\n            setattr(self, k, copy.copy(_g[k]))\\n        return self', \"with SubClass() as wandb:\\n    entity:             str     = ''            # wandb entity\\n    job_type:           str     = 'training'\\n    x = 1\", \"with SubClass() as wandb:\\n    entity:             str     = ''            # wandb entity\\n    job_type:           str     = 'training'\\n    x = 1\", \"class SubClass:\\n    def __init__(self):\\n        # TRACER POTENTIALLY INTERFERS WITH THIS?!\\n        pass\\n    def __enter__(self):\\n        _var = set(globals())\\n        self._var = _var\\n        return self\\n\\n    def __exit__(self, *args):\\n        # import copy\\n        _g = {k:v for k,v in dict(globals().items()) if '__' not in k}\\n        print(_g)\\n        keys = [k for k in list(set(_g.keys()) - self._var)]\\n        for k in keys:\\n            setattr(self, k, copy.copy(_g[k]))\\n        return self\", \"class SubClass:\\n    def __init__(self):\\n        # TRACER POTENTIALLY INTERFERS WITH THIS?!\\n        pass\\n    def __enter__(self):\\n        _var = set(globals())\\n        self._var = _var\\n        return self\\n\\n    def __exit__(self, *args):\\n        # import copy\\n        _g = {k:v for k,v in dict(globals().items()) if '__' not in k}\\n        print(_g)\\n        keys = [k for k in list(set(_g.keys()) - self._var)]\\n        for k in keys:\\n            setattr(self, k, _g[k])\\n        return self\", \"class SubClass:\\n    def __init__(self):\\n        # TRACER POTENTIALLY INTERFERS WITH THIS?!\\n        pass\\n    def __enter__(self):\\n        _var = set(globals())\\n        self._var = _var\\n        return self\\n\\n    def __exit__(self, *args):\\n        # import copy\\n        _g = {k:v for k,v in dict(globals().items()) if '__' not in k}\\n        print(_g)\\n        keys = [k for k in list(set(_g.keys()) - self._var)]\\n        for k in keys:\\n            print(k)\\n            setattr(self, k, _g[k])\\n        return self\", \"with SubClass() as wandb:\\n    entity:             str     = ''            # wandb entity\\n    job_type:           str     = 'training'\\n    x = 1\", 'globals().items()', 'vars().items()']), ('Out', {...}), ('get_ipython', <bound method InteractiveShell.get_ipython of <ipykernel.zmqshell.ZMQInteractiveShell object at 0x0000022370073850>>), ('exit', <IPython.core.autocall.ZMQExitAutocall object at 0x00000223700710F0>), ('quit', <IPython.core.autocall.ZMQExitAutocall object at 0x00000223700710F0>), ('_', ...), ('__', ''), ('___', ''), ('sys', <module 'sys' (built-in)>), ('os', <module 'os' from 'c:\\\\Users\\\\max\\\\miniconda3\\\\envs\\\\hotseat\\\\lib\\\\os.py'>), ('__vsc_ipynb_file__', 'c:\\\\Users\\\\max\\\\OneDrive\\\\sisy\\\\walle\\\\walle\\\\templates\\\\sandbox.ipynb'), ('_i', 'globals().items()'), ('_ii', \"with SubClass() as wandb:\\n    entity:             str     = ''            # wandb entity\\n    job_type:           str     = 'training'\\n    x = 1\"), ('_iii', \"class SubClass:\\n    def __init__(self):\\n        # TRACER POTENTIALLY INTERFERS WITH THIS?!\\n        pass\\n    def __enter__(self):\\n        _var = set(globals())\\n        self._var = _var\\n        return self\\n\\n    def __exit__(self, *args):\\n        # import copy\\n        _g = {k:v for k,v in dict(globals().items()) if '__' not in k}\\n        print(_g)\\n        keys = [k for k in list(set(_g.keys()) - self._var)]\\n        for k in keys:\\n            print(k)\\n            setattr(self, k, _g[k])\\n        return self\"), ('_i1', 'class SubClass:\\n    def __init__(self):\\n        # TRACER POTENTIALLY INTERFERS WITH THIS?!\\n        pass\\n    def __enter__(self):\\n        _var = set(globals())\\n        self._var = _var\\n        return self\\n    def __exit__(self, *args):\\n        import copy\\n        _g = copy.copy(dict(globals().items()))\\n        print(_g)\\n        keys = [k for k in list(set(_g.keys()) - self._var)]\\n        for k in keys:\\n            setattr(self, k, copy.copy(_g[k]))\\n        return self'), ('SubClass', <class '__main__.SubClass'>), ('_i2', \"\\nwith SubClass() as wandb:\\n    entity:             str     = ''            # wandb entity\\n    job_type:           str     = 'training'\\n    x = 1\"), ('__annotations__', {'entity': <class 'str'>, 'job_type': <class 'str'>}), ('wandb', <__main__.SubClass object at 0x0000022370E3BD30>), ('entity', ''), ('job_type', 'training'), ('x', 1), ('_i3', \"\\nwith SubClass() as wandb:\\n    entity:             str     = ''            # wandb entity\\n    job_type:           str     = 'training'\\n    x = 1\"), ('_i4', \"class SubClass:\\n    def __init__(self):\\n        # TRACER POTENTIALLY INTERFERS WITH THIS?!\\n        pass\\n    def __enter__(self):\\n        _var = set(globals())\\n        self._var = _var\\n        return self\\n\\n    def __exit__(self, *args):\\n        # import copy\\n        _g = {k:v for k,v in dict(globals().items()) if '__' not in k}\\n        print(_g)\\n        keys = [k for k in list(set(_g.keys()) - self._var)]\\n        for k in keys:\\n            setattr(self, k, copy.copy(_g[k]))\\n        return self\"), ('_i5', \"class SubClass:\\n    def __init__(self):\\n        # TRACER POTENTIALLY INTERFERS WITH THIS?!\\n        pass\\n    def __enter__(self):\\n        _var = set(globals())\\n        self._var = _var\\n        return self\\n\\n    def __exit__(self, *args):\\n        # import copy\\n        _g = {k:v for k,v in dict(globals().items()) if '__' not in k}\\n        print(_g)\\n        keys = [k for k in list(set(_g.keys()) - self._var)]\\n        for k in keys:\\n            setattr(self, k, _g[k])\\n        return self\"), ('_i6', \"class SubClass:\\n    def __init__(self):\\n        # TRACER POTENTIALLY INTERFERS WITH THIS?!\\n        pass\\n    def __enter__(self):\\n        _var = set(globals())\\n        self._var = _var\\n        return self\\n\\n    def __exit__(self, *args):\\n        # import copy\\n        _g = {k:v for k,v in dict(globals().items()) if '__' not in k}\\n        print(_g)\\n        keys = [k for k in list(set(_g.keys()) - self._var)]\\n        for k in keys:\\n            print(k)\\n            setattr(self, k, _g[k])\\n        return self\"), ('_i7', \"with SubClass() as wandb:\\n    entity:             str     = ''            # wandb entity\\n    job_type:           str     = 'training'\\n    x = 1\"), ('_i8', 'globals().items()'), ('_8', ...), ('_i9', 'vars().items()')])}), ('get_ipython', <bound method InteractiveShell.get_ipython of <ipykernel.zmqshell.ZMQInteractiveShell object at 0x0000022370073850>>), ('exit', <IPython.core.autocall.ZMQExitAutocall object at 0x00000223700710F0>), ('quit', <IPython.core.autocall.ZMQExitAutocall object at 0x00000223700710F0>), ('_', dict_items([('__name__', '__main__'), ('__doc__', 'Automatically created module for IPython interactive environment'), ('__package__', None), ('__loader__', None), ('__spec__', None), ('__builtin__', <module 'builtins' (built-in)>), ('__builtins__', <module 'builtins' (built-in)>), ('_ih', ['', 'class SubClass:\\n    def __init__(self):\\n        # TRACER POTENTIALLY INTERFERS WITH THIS?!\\n        pass\\n    def __enter__(self):\\n        _var = set(globals())\\n        self._var = _var\\n        return self\\n    def __exit__(self, *args):\\n        import copy\\n        _g = copy.copy(dict(globals().items()))\\n        print(_g)\\n        keys = [k for k in list(set(_g.keys()) - self._var)]\\n        for k in keys:\\n            setattr(self, k, copy.copy(_g[k]))\\n        return self', \"with SubClass() as wandb:\\n    entity:             str     = ''            # wandb entity\\n    job_type:           str     = 'training'\\n    x = 1\", \"with SubClass() as wandb:\\n    entity:             str     = ''            # wandb entity\\n    job_type:           str     = 'training'\\n    x = 1\", \"class SubClass:\\n    def __init__(self):\\n        # TRACER POTENTIALLY INTERFERS WITH THIS?!\\n        pass\\n    def __enter__(self):\\n        _var = set(globals())\\n        self._var = _var\\n        return self\\n\\n    def __exit__(self, *args):\\n        # import copy\\n        _g = {k:v for k,v in dict(globals().items()) if '__' not in k}\\n        print(_g)\\n        keys = [k for k in list(set(_g.keys()) - self._var)]\\n        for k in keys:\\n            setattr(self, k, copy.copy(_g[k]))\\n        return self\", \"class SubClass:\\n    def __init__(self):\\n        # TRACER POTENTIALLY INTERFERS WITH THIS?!\\n        pass\\n    def __enter__(self):\\n        _var = set(globals())\\n        self._var = _var\\n        return self\\n\\n    def __exit__(self, *args):\\n        # import copy\\n        _g = {k:v for k,v in dict(globals().items()) if '__' not in k}\\n        print(_g)\\n        keys = [k for k in list(set(_g.keys()) - self._var)]\\n        for k in keys:\\n            setattr(self, k, _g[k])\\n        return self\", \"class SubClass:\\n    def __init__(self):\\n        # TRACER POTENTIALLY INTERFERS WITH THIS?!\\n        pass\\n    def __enter__(self):\\n        _var = set(globals())\\n        self._var = _var\\n        return self\\n\\n    def __exit__(self, *args):\\n        # import copy\\n        _g = {k:v for k,v in dict(globals().items()) if '__' not in k}\\n        print(_g)\\n        keys = [k for k in list(set(_g.keys()) - self._var)]\\n        for k in keys:\\n            print(k)\\n            setattr(self, k, _g[k])\\n        return self\", \"with SubClass() as wandb:\\n    entity:             str     = ''            # wandb entity\\n    job_type:           str     = 'training'\\n    x = 1\", 'globals().items()', 'vars().items()']), ('_oh', {8: ...}), ('_dh', [WindowsPath('c:/Users/max/OneDrive/sisy/walle/walle/templates')]), ('In', ['', 'class SubClass:\\n    def __init__(self):\\n        # TRACER POTENTIALLY INTERFERS WITH THIS?!\\n        pass\\n    def __enter__(self):\\n        _var = set(globals())\\n        self._var = _var\\n        return self\\n    def __exit__(self, *args):\\n        import copy\\n        _g = copy.copy(dict(globals().items()))\\n        print(_g)\\n        keys = [k for k in list(set(_g.keys()) - self._var)]\\n        for k in keys:\\n            setattr(self, k, copy.copy(_g[k]))\\n        return self', \"with SubClass() as wandb:\\n    entity:             str     = ''            # wandb entity\\n    job_type:           str     = 'training'\\n    x = 1\", \"with SubClass() as wandb:\\n    entity:             str     = ''            # wandb entity\\n    job_type:           str     = 'training'\\n    x = 1\", \"class SubClass:\\n    def __init__(self):\\n        # TRACER POTENTIALLY INTERFERS WITH THIS?!\\n        pass\\n    def __enter__(self):\\n        _var = set(globals())\\n        self._var = _var\\n        return self\\n\\n    def __exit__(self, *args):\\n        # import copy\\n        _g = {k:v for k,v in dict(globals().items()) if '__' not in k}\\n        print(_g)\\n        keys = [k for k in list(set(_g.keys()) - self._var)]\\n        for k in keys:\\n            setattr(self, k, copy.copy(_g[k]))\\n        return self\", \"class SubClass:\\n    def __init__(self):\\n        # TRACER POTENTIALLY INTERFERS WITH THIS?!\\n        pass\\n    def __enter__(self):\\n        _var = set(globals())\\n        self._var = _var\\n        return self\\n\\n    def __exit__(self, *args):\\n        # import copy\\n        _g = {k:v for k,v in dict(globals().items()) if '__' not in k}\\n        print(_g)\\n        keys = [k for k in list(set(_g.keys()) - self._var)]\\n        for k in keys:\\n            setattr(self, k, _g[k])\\n        return self\", \"class SubClass:\\n    def __init__(self):\\n        # TRACER POTENTIALLY INTERFERS WITH THIS?!\\n        pass\\n    def __enter__(self):\\n        _var = set(globals())\\n        self._var = _var\\n        return self\\n\\n    def __exit__(self, *args):\\n        # import copy\\n        _g = {k:v for k,v in dict(globals().items()) if '__' not in k}\\n        print(_g)\\n        keys = [k for k in list(set(_g.keys()) - self._var)]\\n        for k in keys:\\n            print(k)\\n            setattr(self, k, _g[k])\\n        return self\", \"with SubClass() as wandb:\\n    entity:             str     = ''            # wandb entity\\n    job_type:           str     = 'training'\\n    x = 1\", 'globals().items()', 'vars().items()']), ('Out', {8: ...}), ('get_ipython', <bound method InteractiveShell.get_ipython of <ipykernel.zmqshell.ZMQInteractiveShell object at 0x0000022370073850>>), ('exit', <IPython.core.autocall.ZMQExitAutocall object at 0x00000223700710F0>), ('quit', <IPython.core.autocall.ZMQExitAutocall object at 0x00000223700710F0>), ('_', ...), ('__', ''), ('___', ''), ('sys', <module 'sys' (built-in)>), ('os', <module 'os' from 'c:\\\\Users\\\\max\\\\miniconda3\\\\envs\\\\hotseat\\\\lib\\\\os.py'>), ('__vsc_ipynb_file__', 'c:\\\\Users\\\\max\\\\OneDrive\\\\sisy\\\\walle\\\\walle\\\\templates\\\\sandbox.ipynb'), ('_i', 'globals().items()'), ('_ii', \"with SubClass() as wandb:\\n    entity:             str     = ''            # wandb entity\\n    job_type:           str     = 'training'\\n    x = 1\"), ('_iii', \"class SubClass:\\n    def __init__(self):\\n        # TRACER POTENTIALLY INTERFERS WITH THIS?!\\n        pass\\n    def __enter__(self):\\n        _var = set(globals())\\n        self._var = _var\\n        return self\\n\\n    def __exit__(self, *args):\\n        # import copy\\n        _g = {k:v for k,v in dict(globals().items()) if '__' not in k}\\n        print(_g)\\n        keys = [k for k in list(set(_g.keys()) - self._var)]\\n        for k in keys:\\n            print(k)\\n            setattr(self, k, _g[k])\\n        return self\"), ('_i1', 'class SubClass:\\n    def __init__(self):\\n        # TRACER POTENTIALLY INTERFERS WITH THIS?!\\n        pass\\n    def __enter__(self):\\n        _var = set(globals())\\n        self._var = _var\\n        return self\\n    def __exit__(self, *args):\\n        import copy\\n        _g = copy.copy(dict(globals().items()))\\n        print(_g)\\n        keys = [k for k in list(set(_g.keys()) - self._var)]\\n        for k in keys:\\n            setattr(self, k, copy.copy(_g[k]))\\n        return self'), ('SubClass', <class '__main__.SubClass'>), ('_i2', \"\\nwith SubClass() as wandb:\\n    entity:             str     = ''            # wandb entity\\n    job_type:           str     = 'training'\\n    x = 1\"), ('__annotations__', {'entity': <class 'str'>, 'job_type': <class 'str'>}), ('wandb', <__main__.SubClass object at 0x0000022370E3BD30>), ('entity', ''), ('job_type', 'training'), ('x', 1), ('_i3', \"\\nwith SubClass() as wandb:\\n    entity:             str     = ''            # wandb entity\\n    job_type:           str     = 'training'\\n    x = 1\"), ('_i4', \"class SubClass:\\n    def __init__(self):\\n        # TRACER POTENTIALLY INTERFERS WITH THIS?!\\n        pass\\n    def __enter__(self):\\n        _var = set(globals())\\n        self._var = _var\\n        return self\\n\\n    def __exit__(self, *args):\\n        # import copy\\n        _g = {k:v for k,v in dict(globals().items()) if '__' not in k}\\n        print(_g)\\n        keys = [k for k in list(set(_g.keys()) - self._var)]\\n        for k in keys:\\n            setattr(self, k, copy.copy(_g[k]))\\n        return self\"), ('_i5', \"class SubClass:\\n    def __init__(self):\\n        # TRACER POTENTIALLY INTERFERS WITH THIS?!\\n        pass\\n    def __enter__(self):\\n        _var = set(globals())\\n        self._var = _var\\n        return self\\n\\n    def __exit__(self, *args):\\n        # import copy\\n        _g = {k:v for k,v in dict(globals().items()) if '__' not in k}\\n        print(_g)\\n        keys = [k for k in list(set(_g.keys()) - self._var)]\\n        for k in keys:\\n            setattr(self, k, _g[k])\\n        return self\"), ('_i6', \"class SubClass:\\n    def __init__(self):\\n        # TRACER POTENTIALLY INTERFERS WITH THIS?!\\n        pass\\n    def __enter__(self):\\n        _var = set(globals())\\n        self._var = _var\\n        return self\\n\\n    def __exit__(self, *args):\\n        # import copy\\n        _g = {k:v for k,v in dict(globals().items()) if '__' not in k}\\n        print(_g)\\n        keys = [k for k in list(set(_g.keys()) - self._var)]\\n        for k in keys:\\n            print(k)\\n            setattr(self, k, _g[k])\\n        return self\"), ('_i7', \"with SubClass() as wandb:\\n    entity:             str     = ''            # wandb entity\\n    job_type:           str     = 'training'\\n    x = 1\"), ('_i8', 'globals().items()'), ('_8', ...), ('_i9', 'vars().items()')])), ('__', ''), ('___', ''), ('sys', <module 'sys' (built-in)>), ('os', <module 'os' from 'c:\\\\Users\\\\max\\\\miniconda3\\\\envs\\\\hotseat\\\\lib\\\\os.py'>), ('__vsc_ipynb_file__', 'c:\\\\Users\\\\max\\\\OneDrive\\\\sisy\\\\walle\\\\walle\\\\templates\\\\sandbox.ipynb'), ('_i', 'globals().items()'), ('_ii', \"with SubClass() as wandb:\\n    entity:             str     = ''            # wandb entity\\n    job_type:           str     = 'training'\\n    x = 1\"), ('_iii', \"class SubClass:\\n    def __init__(self):\\n        # TRACER POTENTIALLY INTERFERS WITH THIS?!\\n        pass\\n    def __enter__(self):\\n        _var = set(globals())\\n        self._var = _var\\n        return self\\n\\n    def __exit__(self, *args):\\n        # import copy\\n        _g = {k:v for k,v in dict(globals().items()) if '__' not in k}\\n        print(_g)\\n        keys = [k for k in list(set(_g.keys()) - self._var)]\\n        for k in keys:\\n            print(k)\\n            setattr(self, k, _g[k])\\n        return self\"), ('_i1', 'class SubClass:\\n    def __init__(self):\\n        # TRACER POTENTIALLY INTERFERS WITH THIS?!\\n        pass\\n    def __enter__(self):\\n        _var = set(globals())\\n        self._var = _var\\n        return self\\n    def __exit__(self, *args):\\n        import copy\\n        _g = copy.copy(dict(globals().items()))\\n        print(_g)\\n        keys = [k for k in list(set(_g.keys()) - self._var)]\\n        for k in keys:\\n            setattr(self, k, copy.copy(_g[k]))\\n        return self'), ('SubClass', <class '__main__.SubClass'>), ('_i2', \"\\nwith SubClass() as wandb:\\n    entity:             str     = ''            # wandb entity\\n    job_type:           str     = 'training'\\n    x = 1\"), ('__annotations__', {'entity': <class 'str'>, 'job_type': <class 'str'>}), ('wandb', <__main__.SubClass object at 0x0000022370E3BD30>), ('entity', ''), ('job_type', 'training'), ('x', 1), ('_i3', \"\\nwith SubClass() as wandb:\\n    entity:             str     = ''            # wandb entity\\n    job_type:           str     = 'training'\\n    x = 1\"), ('_i4', \"class SubClass:\\n    def __init__(self):\\n        # TRACER POTENTIALLY INTERFERS WITH THIS?!\\n        pass\\n    def __enter__(self):\\n        _var = set(globals())\\n        self._var = _var\\n        return self\\n\\n    def __exit__(self, *args):\\n        # import copy\\n        _g = {k:v for k,v in dict(globals().items()) if '__' not in k}\\n        print(_g)\\n        keys = [k for k in list(set(_g.keys()) - self._var)]\\n        for k in keys:\\n            setattr(self, k, copy.copy(_g[k]))\\n        return self\"), ('_i5', \"class SubClass:\\n    def __init__(self):\\n        # TRACER POTENTIALLY INTERFERS WITH THIS?!\\n        pass\\n    def __enter__(self):\\n        _var = set(globals())\\n        self._var = _var\\n        return self\\n\\n    def __exit__(self, *args):\\n        # import copy\\n        _g = {k:v for k,v in dict(globals().items()) if '__' not in k}\\n        print(_g)\\n        keys = [k for k in list(set(_g.keys()) - self._var)]\\n        for k in keys:\\n            setattr(self, k, _g[k])\\n        return self\"), ('_i6', \"class SubClass:\\n    def __init__(self):\\n        # TRACER POTENTIALLY INTERFERS WITH THIS?!\\n        pass\\n    def __enter__(self):\\n        _var = set(globals())\\n        self._var = _var\\n        return self\\n\\n    def __exit__(self, *args):\\n        # import copy\\n        _g = {k:v for k,v in dict(globals().items()) if '__' not in k}\\n        print(_g)\\n        keys = [k for k in list(set(_g.keys()) - self._var)]\\n        for k in keys:\\n            print(k)\\n            setattr(self, k, _g[k])\\n        return self\"), ('_i7', \"with SubClass() as wandb:\\n    entity:             str     = ''            # wandb entity\\n    job_type:           str     = 'training'\\n    x = 1\"), ('_i8', 'globals().items()'), ('_8', dict_items([('__name__', '__main__'), ('__doc__', 'Automatically created module for IPython interactive environment'), ('__package__', None), ('__loader__', None), ('__spec__', None), ('__builtin__', <module 'builtins' (built-in)>), ('__builtins__', <module 'builtins' (built-in)>), ('_ih', ['', 'class SubClass:\\n    def __init__(self):\\n        # TRACER POTENTIALLY INTERFERS WITH THIS?!\\n        pass\\n    def __enter__(self):\\n        _var = set(globals())\\n        self._var = _var\\n        return self\\n    def __exit__(self, *args):\\n        import copy\\n        _g = copy.copy(dict(globals().items()))\\n        print(_g)\\n        keys = [k for k in list(set(_g.keys()) - self._var)]\\n        for k in keys:\\n            setattr(self, k, copy.copy(_g[k]))\\n        return self', \"with SubClass() as wandb:\\n    entity:             str     = ''            # wandb entity\\n    job_type:           str     = 'training'\\n    x = 1\", \"with SubClass() as wandb:\\n    entity:             str     = ''            # wandb entity\\n    job_type:           str     = 'training'\\n    x = 1\", \"class SubClass:\\n    def __init__(self):\\n        # TRACER POTENTIALLY INTERFERS WITH THIS?!\\n        pass\\n    def __enter__(self):\\n        _var = set(globals())\\n        self._var = _var\\n        return self\\n\\n    def __exit__(self, *args):\\n        # import copy\\n        _g = {k:v for k,v in dict(globals().items()) if '__' not in k}\\n        print(_g)\\n        keys = [k for k in list(set(_g.keys()) - self._var)]\\n        for k in keys:\\n            setattr(self, k, copy.copy(_g[k]))\\n        return self\", \"class SubClass:\\n    def __init__(self):\\n        # TRACER POTENTIALLY INTERFERS WITH THIS?!\\n        pass\\n    def __enter__(self):\\n        _var = set(globals())\\n        self._var = _var\\n        return self\\n\\n    def __exit__(self, *args):\\n        # import copy\\n        _g = {k:v for k,v in dict(globals().items()) if '__' not in k}\\n        print(_g)\\n        keys = [k for k in list(set(_g.keys()) - self._var)]\\n        for k in keys:\\n            setattr(self, k, _g[k])\\n        return self\", \"class SubClass:\\n    def __init__(self):\\n        # TRACER POTENTIALLY INTERFERS WITH THIS?!\\n        pass\\n    def __enter__(self):\\n        _var = set(globals())\\n        self._var = _var\\n        return self\\n\\n    def __exit__(self, *args):\\n        # import copy\\n        _g = {k:v for k,v in dict(globals().items()) if '__' not in k}\\n        print(_g)\\n        keys = [k for k in list(set(_g.keys()) - self._var)]\\n        for k in keys:\\n            print(k)\\n            setattr(self, k, _g[k])\\n        return self\", \"with SubClass() as wandb:\\n    entity:             str     = ''            # wandb entity\\n    job_type:           str     = 'training'\\n    x = 1\", 'globals().items()', 'vars().items()']), ('_oh', {8: ...}), ('_dh', [WindowsPath('c:/Users/max/OneDrive/sisy/walle/walle/templates')]), ('In', ['', 'class SubClass:\\n    def __init__(self):\\n        # TRACER POTENTIALLY INTERFERS WITH THIS?!\\n        pass\\n    def __enter__(self):\\n        _var = set(globals())\\n        self._var = _var\\n        return self\\n    def __exit__(self, *args):\\n        import copy\\n        _g = copy.copy(dict(globals().items()))\\n        print(_g)\\n        keys = [k for k in list(set(_g.keys()) - self._var)]\\n        for k in keys:\\n            setattr(self, k, copy.copy(_g[k]))\\n        return self', \"with SubClass() as wandb:\\n    entity:             str     = ''            # wandb entity\\n    job_type:           str     = 'training'\\n    x = 1\", \"with SubClass() as wandb:\\n    entity:             str     = ''            # wandb entity\\n    job_type:           str     = 'training'\\n    x = 1\", \"class SubClass:\\n    def __init__(self):\\n        # TRACER POTENTIALLY INTERFERS WITH THIS?!\\n        pass\\n    def __enter__(self):\\n        _var = set(globals())\\n        self._var = _var\\n        return self\\n\\n    def __exit__(self, *args):\\n        # import copy\\n        _g = {k:v for k,v in dict(globals().items()) if '__' not in k}\\n        print(_g)\\n        keys = [k for k in list(set(_g.keys()) - self._var)]\\n        for k in keys:\\n            setattr(self, k, copy.copy(_g[k]))\\n        return self\", \"class SubClass:\\n    def __init__(self):\\n        # TRACER POTENTIALLY INTERFERS WITH THIS?!\\n        pass\\n    def __enter__(self):\\n        _var = set(globals())\\n        self._var = _var\\n        return self\\n\\n    def __exit__(self, *args):\\n        # import copy\\n        _g = {k:v for k,v in dict(globals().items()) if '__' not in k}\\n        print(_g)\\n        keys = [k for k in list(set(_g.keys()) - self._var)]\\n        for k in keys:\\n            setattr(self, k, _g[k])\\n        return self\", \"class SubClass:\\n    def __init__(self):\\n        # TRACER POTENTIALLY INTERFERS WITH THIS?!\\n        pass\\n    def __enter__(self):\\n        _var = set(globals())\\n        self._var = _var\\n        return self\\n\\n    def __exit__(self, *args):\\n        # import copy\\n        _g = {k:v for k,v in dict(globals().items()) if '__' not in k}\\n        print(_g)\\n        keys = [k for k in list(set(_g.keys()) - self._var)]\\n        for k in keys:\\n            print(k)\\n            setattr(self, k, _g[k])\\n        return self\", \"with SubClass() as wandb:\\n    entity:             str     = ''            # wandb entity\\n    job_type:           str     = 'training'\\n    x = 1\", 'globals().items()', 'vars().items()']), ('Out', {8: ...}), ('get_ipython', <bound method InteractiveShell.get_ipython of <ipykernel.zmqshell.ZMQInteractiveShell object at 0x0000022370073850>>), ('exit', <IPython.core.autocall.ZMQExitAutocall object at 0x00000223700710F0>), ('quit', <IPython.core.autocall.ZMQExitAutocall object at 0x00000223700710F0>), ('_', ...), ('__', ''), ('___', ''), ('sys', <module 'sys' (built-in)>), ('os', <module 'os' from 'c:\\\\Users\\\\max\\\\miniconda3\\\\envs\\\\hotseat\\\\lib\\\\os.py'>), ('__vsc_ipynb_file__', 'c:\\\\Users\\\\max\\\\OneDrive\\\\sisy\\\\walle\\\\walle\\\\templates\\\\sandbox.ipynb'), ('_i', 'globals().items()'), ('_ii', \"with SubClass() as wandb:\\n    entity:             str     = ''            # wandb entity\\n    job_type:           str     = 'training'\\n    x = 1\"), ('_iii', \"class SubClass:\\n    def __init__(self):\\n        # TRACER POTENTIALLY INTERFERS WITH THIS?!\\n        pass\\n    def __enter__(self):\\n        _var = set(globals())\\n        self._var = _var\\n        return self\\n\\n    def __exit__(self, *args):\\n        # import copy\\n        _g = {k:v for k,v in dict(globals().items()) if '__' not in k}\\n        print(_g)\\n        keys = [k for k in list(set(_g.keys()) - self._var)]\\n        for k in keys:\\n            print(k)\\n            setattr(self, k, _g[k])\\n        return self\"), ('_i1', 'class SubClass:\\n    def __init__(self):\\n        # TRACER POTENTIALLY INTERFERS WITH THIS?!\\n        pass\\n    def __enter__(self):\\n        _var = set(globals())\\n        self._var = _var\\n        return self\\n    def __exit__(self, *args):\\n        import copy\\n        _g = copy.copy(dict(globals().items()))\\n        print(_g)\\n        keys = [k for k in list(set(_g.keys()) - self._var)]\\n        for k in keys:\\n            setattr(self, k, copy.copy(_g[k]))\\n        return self'), ('SubClass', <class '__main__.SubClass'>), ('_i2', \"\\nwith SubClass() as wandb:\\n    entity:             str     = ''            # wandb entity\\n    job_type:           str     = 'training'\\n    x = 1\"), ('__annotations__', {'entity': <class 'str'>, 'job_type': <class 'str'>}), ('wandb', <__main__.SubClass object at 0x0000022370E3BD30>), ('entity', ''), ('job_type', 'training'), ('x', 1), ('_i3', \"\\nwith SubClass() as wandb:\\n    entity:             str     = ''            # wandb entity\\n    job_type:           str     = 'training'\\n    x = 1\"), ('_i4', \"class SubClass:\\n    def __init__(self):\\n        # TRACER POTENTIALLY INTERFERS WITH THIS?!\\n        pass\\n    def __enter__(self):\\n        _var = set(globals())\\n        self._var = _var\\n        return self\\n\\n    def __exit__(self, *args):\\n        # import copy\\n        _g = {k:v for k,v in dict(globals().items()) if '__' not in k}\\n        print(_g)\\n        keys = [k for k in list(set(_g.keys()) - self._var)]\\n        for k in keys:\\n            setattr(self, k, copy.copy(_g[k]))\\n        return self\"), ('_i5', \"class SubClass:\\n    def __init__(self):\\n        # TRACER POTENTIALLY INTERFERS WITH THIS?!\\n        pass\\n    def __enter__(self):\\n        _var = set(globals())\\n        self._var = _var\\n        return self\\n\\n    def __exit__(self, *args):\\n        # import copy\\n        _g = {k:v for k,v in dict(globals().items()) if '__' not in k}\\n        print(_g)\\n        keys = [k for k in list(set(_g.keys()) - self._var)]\\n        for k in keys:\\n            setattr(self, k, _g[k])\\n        return self\"), ('_i6', \"class SubClass:\\n    def __init__(self):\\n        # TRACER POTENTIALLY INTERFERS WITH THIS?!\\n        pass\\n    def __enter__(self):\\n        _var = set(globals())\\n        self._var = _var\\n        return self\\n\\n    def __exit__(self, *args):\\n        # import copy\\n        _g = {k:v for k,v in dict(globals().items()) if '__' not in k}\\n        print(_g)\\n        keys = [k for k in list(set(_g.keys()) - self._var)]\\n        for k in keys:\\n            print(k)\\n            setattr(self, k, _g[k])\\n        return self\"), ('_i7', \"with SubClass() as wandb:\\n    entity:             str     = ''            # wandb entity\\n    job_type:           str     = 'training'\\n    x = 1\"), ('_i8', 'globals().items()'), ('_8', ...), ('_i9', 'vars().items()')])), ('_i9', 'vars().items()')])"
      ]
     },
     "execution_count": 9,
     "metadata": {},
     "output_type": "execute_result"
    }
   ],
   "source": [
    "vars().items()"
   ]
  },
  {
   "cell_type": "code",
   "execution_count": 12,
   "metadata": {},
   "outputs": [
    {
     "ename": "AttributeError",
     "evalue": "'SubClass' object has no attribute 'entity'",
     "output_type": "error",
     "traceback": [
      "\u001b[1;31m---------------------------------------------------------------------------\u001b[0m",
      "\u001b[1;31mAttributeError\u001b[0m                            Traceback (most recent call last)",
      "\u001b[1;32mc:\\Users\\max\\OneDrive\\sisy\\walle\\walle\\templates\\sandbox.ipynb Cell 3\u001b[0m in \u001b[0;36m<cell line: 1>\u001b[1;34m()\u001b[0m\n\u001b[1;32m----> <a href='vscode-notebook-cell:/c%3A/Users/max/OneDrive/sisy/walle/walle/templates/sandbox.ipynb#X43sZmlsZQ%3D%3D?line=0'>1</a>\u001b[0m wandb\u001b[39m.\u001b[39;49mentity\n",
      "\u001b[1;31mAttributeError\u001b[0m: 'SubClass' object has no attribute 'entity'"
     ]
    }
   ],
   "source": [
    "wandb.entity"
   ]
  },
  {
   "cell_type": "code",
   "execution_count": 158,
   "metadata": {},
   "outputs": [
    {
     "data": {
      "text/plain": [
       "True"
      ]
     },
     "execution_count": 158,
     "metadata": {},
     "output_type": "execute_result"
    }
   ],
   "source": [
    "class Container:\n",
    "    entity:             str     = ''            # wandb entity\n",
    "    job_type:           str     = 'training'\n",
    "\n",
    "isinstance(1, object)"
   ]
  },
  {
   "cell_type": "code",
   "execution_count": 49,
   "metadata": {},
   "outputs": [
    {
     "name": "stdout",
     "output_type": "stream",
     "text": [
      "{}\n"
     ]
    }
   ],
   "source": [
    "def fn(x, y):\n",
    "    z = 1\n",
    "    x += y\n",
    "    return y\n",
    "\n",
    "config_dict = {}\n",
    "exec('fn(1, 2)', globals(), config_dict)\n",
    "\n",
    "print(config_dict)\n"
   ]
  },
  {
   "cell_type": "code",
   "execution_count": 74,
   "metadata": {},
   "outputs": [],
   "source": [
    "import runpy\n",
    "c = runpy.run_path(r'C:\\Users\\max\\OneDrive\\sisy\\walle\\cfg\\cfg.py')"
   ]
  },
  {
   "cell_type": "code",
   "execution_count": 77,
   "metadata": {},
   "outputs": [
    {
     "name": "stdout",
     "output_type": "stream",
     "text": [
      "Help on dict object:\n",
      "\n",
      "class dict(object)\n",
      " |  dict() -> new empty dictionary\n",
      " |  dict(mapping) -> new dictionary initialized from a mapping object's\n",
      " |      (key, value) pairs\n",
      " |  dict(iterable) -> new dictionary initialized as if via:\n",
      " |      d = {}\n",
      " |      for k, v in iterable:\n",
      " |          d[k] = v\n",
      " |  dict(**kwargs) -> new dictionary initialized with the name=value pairs\n",
      " |      in the keyword argument list.  For example:  dict(one=1, two=2)\n",
      " |  \n",
      " |  Built-in subclasses:\n",
      " |      StgDict\n",
      " |  \n",
      " |  Methods defined here:\n",
      " |  \n",
      " |  __contains__(self, key, /)\n",
      " |      True if the dictionary has the specified key, else False.\n",
      " |  \n",
      " |  __delitem__(self, key, /)\n",
      " |      Delete self[key].\n",
      " |  \n",
      " |  __eq__(self, value, /)\n",
      " |      Return self==value.\n",
      " |  \n",
      " |  __ge__(self, value, /)\n",
      " |      Return self>=value.\n",
      " |  \n",
      " |  __getattribute__(self, name, /)\n",
      " |      Return getattr(self, name).\n",
      " |  \n",
      " |  __getitem__(...)\n",
      " |      x.__getitem__(y) <==> x[y]\n",
      " |  \n",
      " |  __gt__(self, value, /)\n",
      " |      Return self>value.\n",
      " |  \n",
      " |  __init__(self, /, *args, **kwargs)\n",
      " |      Initialize self.  See help(type(self)) for accurate signature.\n",
      " |  \n",
      " |  __ior__(self, value, /)\n",
      " |      Return self|=value.\n",
      " |  \n",
      " |  __iter__(self, /)\n",
      " |      Implement iter(self).\n",
      " |  \n",
      " |  __le__(self, value, /)\n",
      " |      Return self<=value.\n",
      " |  \n",
      " |  __len__(self, /)\n",
      " |      Return len(self).\n",
      " |  \n",
      " |  __lt__(self, value, /)\n",
      " |      Return self<value.\n",
      " |  \n",
      " |  __ne__(self, value, /)\n",
      " |      Return self!=value.\n",
      " |  \n",
      " |  __or__(self, value, /)\n",
      " |      Return self|value.\n",
      " |  \n",
      " |  __repr__(self, /)\n",
      " |      Return repr(self).\n",
      " |  \n",
      " |  __reversed__(self, /)\n",
      " |      Return a reverse iterator over the dict keys.\n",
      " |  \n",
      " |  __ror__(self, value, /)\n",
      " |      Return value|self.\n",
      " |  \n",
      " |  __setitem__(self, key, value, /)\n",
      " |      Set self[key] to value.\n",
      " |  \n",
      " |  __sizeof__(...)\n",
      " |      D.__sizeof__() -> size of D in memory, in bytes\n",
      " |  \n",
      " |  clear(...)\n",
      " |      D.clear() -> None.  Remove all items from D.\n",
      " |  \n",
      " |  copy(...)\n",
      " |      D.copy() -> a shallow copy of D\n",
      " |  \n",
      " |  get(self, key, default=None, /)\n",
      " |      Return the value for key if key is in the dictionary, else default.\n",
      " |  \n",
      " |  items(...)\n",
      " |      D.items() -> a set-like object providing a view on D's items\n",
      " |  \n",
      " |  keys(...)\n",
      " |      D.keys() -> a set-like object providing a view on D's keys\n",
      " |  \n",
      " |  pop(...)\n",
      " |      D.pop(k[,d]) -> v, remove specified key and return the corresponding value.\n",
      " |      \n",
      " |      If the key is not found, return the default if given; otherwise,\n",
      " |      raise a KeyError.\n",
      " |  \n",
      " |  popitem(self, /)\n",
      " |      Remove and return a (key, value) pair as a 2-tuple.\n",
      " |      \n",
      " |      Pairs are returned in LIFO (last-in, first-out) order.\n",
      " |      Raises KeyError if the dict is empty.\n",
      " |  \n",
      " |  setdefault(self, key, default=None, /)\n",
      " |      Insert key with a value of default if key is not in the dictionary.\n",
      " |      \n",
      " |      Return the value for key if key is in the dictionary, else default.\n",
      " |  \n",
      " |  update(...)\n",
      " |      D.update([E, ]**F) -> None.  Update D from dict/iterable E and F.\n",
      " |      If E is present and has a .keys() method, then does:  for k in E: D[k] = E[k]\n",
      " |      If E is present and lacks a .keys() method, then does:  for k, v in E: D[k] = v\n",
      " |      In either case, this is followed by: for k in F:  D[k] = F[k]\n",
      " |  \n",
      " |  values(...)\n",
      " |      D.values() -> an object providing a view on D's values\n",
      " |  \n",
      " |  ----------------------------------------------------------------------\n",
      " |  Class methods defined here:\n",
      " |  \n",
      " |  __class_getitem__(...) from builtins.type\n",
      " |      See PEP 585\n",
      " |  \n",
      " |  fromkeys(iterable, value=None, /) from builtins.type\n",
      " |      Create a new dictionary with keys from iterable and values set to value.\n",
      " |  \n",
      " |  ----------------------------------------------------------------------\n",
      " |  Static methods defined here:\n",
      " |  \n",
      " |  __new__(*args, **kwargs) from builtins.type\n",
      " |      Create and return a new object.  See help(type) for accurate signature.\n",
      " |  \n",
      " |  ----------------------------------------------------------------------\n",
      " |  Data and other attributes defined here:\n",
      " |  \n",
      " |  __hash__ = None\n",
      "\n"
     ]
    },
    {
     "data": {
      "text/plain": [
       "dict_items([('__name__', '<run_path>'), ('__doc__', None), ('__package__', ''), ('__loader__', None), ('__spec__', None), ('__file__', 'C:\\\\Users\\\\max\\\\OneDrive\\\\sisy\\\\walle\\\\cfg\\\\cfg.py'), ('__cached__', None), ('__builtins__', {'__name__': 'builtins', '__doc__': \"Built-in functions, exceptions, and other objects.\\n\\nNoteworthy: None is the `nil' object; Ellipsis represents `...' in slices.\", '__package__': '', '__loader__': <class '_frozen_importlib.BuiltinImporter'>, '__spec__': ModuleSpec(name='builtins', loader=<class '_frozen_importlib.BuiltinImporter'>, origin='built-in'), '__build_class__': <built-in function __build_class__>, '__import__': <built-in function __import__>, 'abs': <built-in function abs>, 'all': <built-in function all>, 'any': <built-in function any>, 'ascii': <built-in function ascii>, 'bin': <built-in function bin>, 'breakpoint': <built-in function breakpoint>, 'callable': <built-in function callable>, 'chr': <built-in function chr>, 'compile': <built-in function compile>, 'delattr': <built-in function delattr>, 'dir': <built-in function dir>, 'divmod': <built-in function divmod>, 'eval': <built-in function eval>, 'exec': <built-in function exec>, 'format': <built-in function format>, 'getattr': <built-in function getattr>, 'globals': <built-in function globals>, 'hasattr': <built-in function hasattr>, 'hash': <built-in function hash>, 'hex': <built-in function hex>, 'id': <built-in function id>, 'input': <bound method Kernel.raw_input of <ipykernel.ipkernel.IPythonKernel object at 0x000001D6CA873370>>, 'isinstance': <built-in function isinstance>, 'issubclass': <built-in function issubclass>, 'iter': <built-in function iter>, 'aiter': <built-in function aiter>, 'len': <built-in function len>, 'locals': <built-in function locals>, 'max': <built-in function max>, 'min': <built-in function min>, 'next': <built-in function next>, 'anext': <built-in function anext>, 'oct': <built-in function oct>, 'ord': <built-in function ord>, 'pow': <built-in function pow>, 'print': <built-in function print>, 'repr': <built-in function repr>, 'round': <built-in function round>, 'setattr': <built-in function setattr>, 'sorted': <built-in function sorted>, 'sum': <built-in function sum>, 'vars': <built-in function vars>, 'None': None, 'Ellipsis': Ellipsis, 'NotImplemented': NotImplemented, 'False': False, 'True': True, 'bool': <class 'bool'>, 'memoryview': <class 'memoryview'>, 'bytearray': <class 'bytearray'>, 'bytes': <class 'bytes'>, 'classmethod': <class 'classmethod'>, 'complex': <class 'complex'>, 'dict': <class 'dict'>, 'enumerate': <class 'enumerate'>, 'filter': <class 'filter'>, 'float': <class 'float'>, 'frozenset': <class 'frozenset'>, 'property': <class 'property'>, 'int': <class 'int'>, 'list': <class 'list'>, 'map': <class 'map'>, 'object': <class 'object'>, 'range': <class 'range'>, 'reversed': <class 'reversed'>, 'set': <class 'set'>, 'slice': <class 'slice'>, 'staticmethod': <class 'staticmethod'>, 'str': <class 'str'>, 'super': <class 'super'>, 'tuple': <class 'tuple'>, 'type': <class 'type'>, 'zip': <class 'zip'>, '__debug__': True, 'BaseException': <class 'BaseException'>, 'Exception': <class 'Exception'>, 'TypeError': <class 'TypeError'>, 'StopAsyncIteration': <class 'StopAsyncIteration'>, 'StopIteration': <class 'StopIteration'>, 'GeneratorExit': <class 'GeneratorExit'>, 'SystemExit': <class 'SystemExit'>, 'KeyboardInterrupt': <class 'KeyboardInterrupt'>, 'ImportError': <class 'ImportError'>, 'ModuleNotFoundError': <class 'ModuleNotFoundError'>, 'OSError': <class 'OSError'>, 'EnvironmentError': <class 'OSError'>, 'IOError': <class 'OSError'>, 'WindowsError': <class 'OSError'>, 'EOFError': <class 'EOFError'>, 'RuntimeError': <class 'RuntimeError'>, 'RecursionError': <class 'RecursionError'>, 'NotImplementedError': <class 'NotImplementedError'>, 'NameError': <class 'NameError'>, 'UnboundLocalError': <class 'UnboundLocalError'>, 'AttributeError': <class 'AttributeError'>, 'SyntaxError': <class 'SyntaxError'>, 'IndentationError': <class 'IndentationError'>, 'TabError': <class 'TabError'>, 'LookupError': <class 'LookupError'>, 'IndexError': <class 'IndexError'>, 'KeyError': <class 'KeyError'>, 'ValueError': <class 'ValueError'>, 'UnicodeError': <class 'UnicodeError'>, 'UnicodeEncodeError': <class 'UnicodeEncodeError'>, 'UnicodeDecodeError': <class 'UnicodeDecodeError'>, 'UnicodeTranslateError': <class 'UnicodeTranslateError'>, 'AssertionError': <class 'AssertionError'>, 'ArithmeticError': <class 'ArithmeticError'>, 'FloatingPointError': <class 'FloatingPointError'>, 'OverflowError': <class 'OverflowError'>, 'ZeroDivisionError': <class 'ZeroDivisionError'>, 'SystemError': <class 'SystemError'>, 'ReferenceError': <class 'ReferenceError'>, 'MemoryError': <class 'MemoryError'>, 'BufferError': <class 'BufferError'>, 'Warning': <class 'Warning'>, 'UserWarning': <class 'UserWarning'>, 'EncodingWarning': <class 'EncodingWarning'>, 'DeprecationWarning': <class 'DeprecationWarning'>, 'PendingDeprecationWarning': <class 'PendingDeprecationWarning'>, 'SyntaxWarning': <class 'SyntaxWarning'>, 'RuntimeWarning': <class 'RuntimeWarning'>, 'FutureWarning': <class 'FutureWarning'>, 'ImportWarning': <class 'ImportWarning'>, 'UnicodeWarning': <class 'UnicodeWarning'>, 'BytesWarning': <class 'BytesWarning'>, 'ResourceWarning': <class 'ResourceWarning'>, 'ConnectionError': <class 'ConnectionError'>, 'BlockingIOError': <class 'BlockingIOError'>, 'BrokenPipeError': <class 'BrokenPipeError'>, 'ChildProcessError': <class 'ChildProcessError'>, 'ConnectionAbortedError': <class 'ConnectionAbortedError'>, 'ConnectionRefusedError': <class 'ConnectionRefusedError'>, 'ConnectionResetError': <class 'ConnectionResetError'>, 'FileExistsError': <class 'FileExistsError'>, 'FileNotFoundError': <class 'FileNotFoundError'>, 'IsADirectoryError': <class 'IsADirectoryError'>, 'NotADirectoryError': <class 'NotADirectoryError'>, 'InterruptedError': <class 'InterruptedError'>, 'PermissionError': <class 'PermissionError'>, 'ProcessLookupError': <class 'ProcessLookupError'>, 'TimeoutError': <class 'TimeoutError'>, 'open': <built-in function open>, 'copyright': Copyright (c) 2001-2022 Python Software Foundation.\n",
       "All Rights Reserved.\n",
       "\n",
       "Copyright (c) 2000 BeOpen.com.\n",
       "All Rights Reserved.\n",
       "\n",
       "Copyright (c) 1995-2001 Corporation for National Research Initiatives.\n",
       "All Rights Reserved.\n",
       "\n",
       "Copyright (c) 1991-1995 Stichting Mathematisch Centrum, Amsterdam.\n",
       "All Rights Reserved., 'credits':     Thanks to CWI, CNRI, BeOpen.com, Zope Corporation and a cast of thousands\n",
       "    for supporting Python development.  See www.python.org for more information., 'license': See https://www.python.org/psf/license/, 'help': Type help() for interactive help, or help(object) for help about object., 'execfile': <function execfile at 0x000001D6CA4DBD90>, 'runfile': <function runfile at 0x000001D6CA60F250>, '__IPYTHON__': True, 'display': <function display at 0x000001D6C8C6F7F0>, 'get_ipython': <bound method InteractiveShell.get_ipython of <ipykernel.zmqshell.ZMQInteractiveShell object at 0x000001D6CA873850>>}), ('Path', <class 'pathlib.Path'>), ('count_gpu', <function count_gpu at 0x000001D6DD4993F0>), ('git_commit_id', <function git_commit_id at 0x000001D6DD49BAC0>), ('get_sys_arg', <function get_sys_arg at 0x000001D6DD49BD90>), ('Cfg', <class '<run_path>.Cfg'>)])"
      ]
     },
     "execution_count": 77,
     "metadata": {},
     "output_type": "execute_result"
    }
   ],
   "source": [
    "import copy\n",
    "help(c)\n",
    "c.items()"
   ]
  },
  {
   "cell_type": "code",
   "execution_count": 53,
   "metadata": {},
   "outputs": [
    {
     "name": "stdout",
     "output_type": "stream",
     "text": [
      "1\n",
      "1\n"
     ]
    }
   ],
   "source": [
    "a = 1\n",
    "from pprint import pprint\n",
    "print(str(a))\n",
    "pprint(a)"
   ]
  },
  {
   "cell_type": "code",
   "execution_count": 45,
   "metadata": {},
   "outputs": [
    {
     "data": {
      "text/plain": [
       "{'counts': {},\n",
       " 'counter': {},\n",
       " 'calledfuncs': {},\n",
       " 'callers': {},\n",
       " 'infile': None,\n",
       " 'outfile': None}"
      ]
     },
     "execution_count": 45,
     "metadata": {},
     "output_type": "execute_result"
    }
   ],
   "source": [
    "import trace\n",
    "import sys\n",
    "# create a Trace object, telling it what to ignore, and whether to\n",
    "# do tracing or line-counting or both.\n",
    "\n",
    "\n",
    "\n",
    "# https://docs.python.org/3/library/trace.html#:~:text=The%20trace%20module%20allows%20you,or%20from%20the%20command%20line.\n",
    "\n",
    "tracer = trace.Trace(\n",
    "    ignoredirs=[sys.prefix, sys.exec_prefix],\n",
    "    trace=1,\n",
    "    count=1)\n",
    "\n",
    "args = 1, 2\n",
    "# run the new command using the given tracer\n",
    "tracer.runctx('fn(*args)', globals=globals(), locals=locals())\n",
    "\n",
    "# make a report, placing output in the current directory\n",
    "r = tracer.results()\n",
    "# r.write_results(show_missing=True, coverdir=\".\")\n",
    "r.__dict__\n",
    "\n"
   ]
  },
  {
   "cell_type": "code",
   "execution_count": 40,
   "metadata": {},
   "outputs": [
    {
     "data": {
      "text/plain": [
       "{'counts': {},\n",
       " 'counter': {},\n",
       " 'calledfuncs': {},\n",
       " 'callers': {},\n",
       " 'infile': None,\n",
       " 'outfile': None}"
      ]
     },
     "execution_count": 40,
     "metadata": {},
     "output_type": "execute_result"
    }
   ],
   "source": []
  },
  {
   "cell_type": "code",
   "execution_count": 14,
   "metadata": {},
   "outputs": [
    {
     "name": "stdout",
     "output_type": "stream",
     "text": [
      "here\n",
      "False\n"
     ]
    }
   ],
   "source": [
    "class static:\n",
    "    pass\n",
    "\n",
    "class Sweep:\n",
    "    x: static = 1\n",
    "    y: int    = 2\n",
    "    z: int    = print('here')\n",
    "    pass\n",
    "\n",
    "d = {'z': 5, 'y': [1, 2, 3]}\n",
    "\n",
    "print(isinstance(Sweep().x, static))"
   ]
  },
  {
   "cell_type": "code",
   "execution_count": 5,
   "metadata": {},
   "outputs": [
    {
     "data": {
      "text/plain": [
       "{'__name__': '__main__',\n",
       " '__doc__': 'Automatically created module for IPython interactive environment',\n",
       " '__package__': None,\n",
       " '__loader__': None,\n",
       " '__spec__': None,\n",
       " '__builtin__': <module 'builtins' (built-in)>,\n",
       " '__builtins__': <module 'builtins' (built-in)>,\n",
       " '_ih': ['',\n",
       "  'class Sweep:\\n    pass\\nx: Sweep = [1, 2, 3]\\ny: list  = [1, 2, 3]\\nisinstance(x, list)\\nisinstance(y, Sweep)\\nlocals()',\n",
       "  'class Sweep:\\n    pass\\nx: Sweep = [1, 2, 3]\\ny: list  = [1, 2, 3]\\nisinstance(x, list)\\nisinstance(y, Sweep)\\ndir()',\n",
       "  \"class Sweep:\\n    pass\\nx: Sweep = [1, 2, 3]\\ny: list  = [1, 2, 3]\\nisinstance(x, list)\\nisinstance(y, Sweep)\\nget_ipython().run_line_magic('who', '')\",\n",
       "  \"class Sweep:\\n    pass\\nx: Sweep = [1, 2, 3]\\ny: list  = [1, 2, 3]\\nisinstance(x, list)\\nisinstance(y, Sweep)\\nget_ipython().run_line_magic('whos', '')\",\n",
       "  'class Sweep:\\n    pass\\nx: Sweep = [1, 2, 3]\\ny: list  = [1, 2, 3]\\nisinstance(x, list)\\nisinstance(y, Sweep)\\nvars()'],\n",
       " '_oh': {1: {...},\n",
       "  2: ['In',\n",
       "   'Out',\n",
       "   'Sweep',\n",
       "   '_',\n",
       "   '_1',\n",
       "   '__',\n",
       "   '___',\n",
       "   '__annotations__',\n",
       "   '__builtin__',\n",
       "   '__builtins__',\n",
       "   '__doc__',\n",
       "   '__loader__',\n",
       "   '__name__',\n",
       "   '__package__',\n",
       "   '__spec__',\n",
       "   '__vsc_ipynb_file__',\n",
       "   '_dh',\n",
       "   '_i',\n",
       "   '_i1',\n",
       "   '_i2',\n",
       "   '_ih',\n",
       "   '_ii',\n",
       "   '_iii',\n",
       "   '_oh',\n",
       "   'exit',\n",
       "   'get_ipython',\n",
       "   'os',\n",
       "   'quit',\n",
       "   'sys',\n",
       "   'x',\n",
       "   'y']},\n",
       " '_dh': [WindowsPath('c:/Users/max/OneDrive/sisy/walle/walle/templates')],\n",
       " 'In': ['',\n",
       "  'class Sweep:\\n    pass\\nx: Sweep = [1, 2, 3]\\ny: list  = [1, 2, 3]\\nisinstance(x, list)\\nisinstance(y, Sweep)\\nlocals()',\n",
       "  'class Sweep:\\n    pass\\nx: Sweep = [1, 2, 3]\\ny: list  = [1, 2, 3]\\nisinstance(x, list)\\nisinstance(y, Sweep)\\ndir()',\n",
       "  \"class Sweep:\\n    pass\\nx: Sweep = [1, 2, 3]\\ny: list  = [1, 2, 3]\\nisinstance(x, list)\\nisinstance(y, Sweep)\\nget_ipython().run_line_magic('who', '')\",\n",
       "  \"class Sweep:\\n    pass\\nx: Sweep = [1, 2, 3]\\ny: list  = [1, 2, 3]\\nisinstance(x, list)\\nisinstance(y, Sweep)\\nget_ipython().run_line_magic('whos', '')\",\n",
       "  'class Sweep:\\n    pass\\nx: Sweep = [1, 2, 3]\\ny: list  = [1, 2, 3]\\nisinstance(x, list)\\nisinstance(y, Sweep)\\nvars()'],\n",
       " 'Out': {1: {...},\n",
       "  2: ['In',\n",
       "   'Out',\n",
       "   'Sweep',\n",
       "   '_',\n",
       "   '_1',\n",
       "   '__',\n",
       "   '___',\n",
       "   '__annotations__',\n",
       "   '__builtin__',\n",
       "   '__builtins__',\n",
       "   '__doc__',\n",
       "   '__loader__',\n",
       "   '__name__',\n",
       "   '__package__',\n",
       "   '__spec__',\n",
       "   '__vsc_ipynb_file__',\n",
       "   '_dh',\n",
       "   '_i',\n",
       "   '_i1',\n",
       "   '_i2',\n",
       "   '_ih',\n",
       "   '_ii',\n",
       "   '_iii',\n",
       "   '_oh',\n",
       "   'exit',\n",
       "   'get_ipython',\n",
       "   'os',\n",
       "   'quit',\n",
       "   'sys',\n",
       "   'x',\n",
       "   'y']},\n",
       " 'get_ipython': <bound method InteractiveShell.get_ipython of <ipykernel.zmqshell.ZMQInteractiveShell object at 0x000001E97BC537F0>>,\n",
       " 'exit': <IPython.core.autocall.ZMQExitAutocall at 0x1e97bc51180>,\n",
       " 'quit': <IPython.core.autocall.ZMQExitAutocall at 0x1e97bc51180>,\n",
       " '_': ['In',\n",
       "  'Out',\n",
       "  'Sweep',\n",
       "  '_',\n",
       "  '_1',\n",
       "  '__',\n",
       "  '___',\n",
       "  '__annotations__',\n",
       "  '__builtin__',\n",
       "  '__builtins__',\n",
       "  '__doc__',\n",
       "  '__loader__',\n",
       "  '__name__',\n",
       "  '__package__',\n",
       "  '__spec__',\n",
       "  '__vsc_ipynb_file__',\n",
       "  '_dh',\n",
       "  '_i',\n",
       "  '_i1',\n",
       "  '_i2',\n",
       "  '_ih',\n",
       "  '_ii',\n",
       "  '_iii',\n",
       "  '_oh',\n",
       "  'exit',\n",
       "  'get_ipython',\n",
       "  'os',\n",
       "  'quit',\n",
       "  'sys',\n",
       "  'x',\n",
       "  'y'],\n",
       " '__': {...},\n",
       " '___': '',\n",
       " 'os': <module 'os' from 'c:\\\\Users\\\\max\\\\miniconda3\\\\envs\\\\hotseat\\\\lib\\\\os.py'>,\n",
       " 'sys': <module 'sys' (built-in)>,\n",
       " '__vsc_ipynb_file__': 'c:\\\\Users\\\\max\\\\OneDrive\\\\sisy\\\\walle\\\\walle\\\\templates\\\\sandbox.ipynb',\n",
       " '_i': 'class Sweep:\\n    pass\\nx: Sweep = [1, 2, 3]\\ny: list  = [1, 2, 3]\\nisinstance(x, list)\\nisinstance(y, Sweep)\\n%whos',\n",
       " '_ii': 'class Sweep:\\n    pass\\nx: Sweep = [1, 2, 3]\\ny: list  = [1, 2, 3]\\nisinstance(x, list)\\nisinstance(y, Sweep)\\n%who',\n",
       " '_iii': 'class Sweep:\\n    pass\\nx: Sweep = [1, 2, 3]\\ny: list  = [1, 2, 3]\\nisinstance(x, list)\\nisinstance(y, Sweep)\\ndir()',\n",
       " '_i1': 'class Sweep:\\n    pass\\nx: Sweep = [1, 2, 3]\\ny: list  = [1, 2, 3]\\nisinstance(x, list)\\nisinstance(y, Sweep)\\nlocals()',\n",
       " 'Sweep': __main__.Sweep,\n",
       " '__annotations__': {'x': __main__.Sweep, 'y': list},\n",
       " 'x': [1, 2, 3],\n",
       " 'y': [1, 2, 3],\n",
       " '_1': {...},\n",
       " '_i2': 'class Sweep:\\n    pass\\nx: Sweep = [1, 2, 3]\\ny: list  = [1, 2, 3]\\nisinstance(x, list)\\nisinstance(y, Sweep)\\ndir()',\n",
       " '_2': ['In',\n",
       "  'Out',\n",
       "  'Sweep',\n",
       "  '_',\n",
       "  '_1',\n",
       "  '__',\n",
       "  '___',\n",
       "  '__annotations__',\n",
       "  '__builtin__',\n",
       "  '__builtins__',\n",
       "  '__doc__',\n",
       "  '__loader__',\n",
       "  '__name__',\n",
       "  '__package__',\n",
       "  '__spec__',\n",
       "  '__vsc_ipynb_file__',\n",
       "  '_dh',\n",
       "  '_i',\n",
       "  '_i1',\n",
       "  '_i2',\n",
       "  '_ih',\n",
       "  '_ii',\n",
       "  '_iii',\n",
       "  '_oh',\n",
       "  'exit',\n",
       "  'get_ipython',\n",
       "  'os',\n",
       "  'quit',\n",
       "  'sys',\n",
       "  'x',\n",
       "  'y'],\n",
       " '_i3': 'class Sweep:\\n    pass\\nx: Sweep = [1, 2, 3]\\ny: list  = [1, 2, 3]\\nisinstance(x, list)\\nisinstance(y, Sweep)\\n%who',\n",
       " '_i4': 'class Sweep:\\n    pass\\nx: Sweep = [1, 2, 3]\\ny: list  = [1, 2, 3]\\nisinstance(x, list)\\nisinstance(y, Sweep)\\n%whos',\n",
       " '_i5': 'class Sweep:\\n    pass\\nx: Sweep = [1, 2, 3]\\ny: list  = [1, 2, 3]\\nisinstance(x, list)\\nisinstance(y, Sweep)\\nvars()'}"
      ]
     },
     "execution_count": 5,
     "metadata": {},
     "output_type": "execute_result"
    }
   ],
   "source": [
    "class Sweep:\n",
    "    x: str = 1\n",
    "    y: int = 2\n",
    "    pass\n",
    "\n",
    "x: Sweep = [1, 2, 3]\n",
    "y: list  = [1, 2, 3]\n",
    "isinstance(x, list)\n",
    "isinstance(y, Sweep)\n",
    "vars()"
   ]
  },
  {
   "cell_type": "code",
   "execution_count": 2,
   "metadata": {},
   "outputs": [
    {
     "data": {
      "text/plain": [
       "1"
      ]
     },
     "execution_count": 2,
     "metadata": {},
     "output_type": "execute_result"
    }
   ],
   "source": [
    "import numpy as np\n",
    "x = np.array(1)\n",
    "x.tolist()"
   ]
  },
  {
   "cell_type": "code",
   "execution_count": 1,
   "metadata": {},
   "outputs": [],
   "source": [
    "%load_ext autoreload\n",
    "%autoreload 2"
   ]
  },
  {
   "cell_type": "code",
   "execution_count": 79,
   "metadata": {},
   "outputs": [],
   "source": [
    "\n",
    "# def create_config(cfg_path: Path, d: dict):\n",
    "#     for name, val in d.items():\n",
    "#         pattern = f'{name}*=*'\n",
    "        \n",
    "#     def func():\n",
    "#         with open('/path/to/file.txt') as f: # Open the file (auto-close it too)\n",
    "#             for line in f: # Go through the lines one at a time\n",
    "#                 m = re.match('\\d+(?:[.-]\\w+)*\\s*', line) # Check each line\n",
    "#                 if m: # If we have a match...\n",
    "#                     return m.group(1) # ...return the value\n",
    "#                     re.search('ba[rzd]', 'foobarrrr')\n",
    "\n",
    "\n",
    "import re\n",
    "# https://medium.com/factory-mind/regex-tutorial-a-simple-cheatsheet-by-examples-649dc1c3f285\n",
    "cfg_path = r'C:\\Users\\max\\OneDrive\\sisy\\walle\\walle\\templates\\config.py'\n",
    "target_path = r'C:\\Users\\max\\OneDrive\\sisy\\walle\\walle\\templates\\demo.py'\n",
    "\n",
    "from typing import Any\n",
    "def search_and_replace_hypam_val(pattern: str, s: str, v: Any):\n",
    "    if match := re.search(pattern, s):\n",
    "        lhs_idx, rhs_idx = s.index('='), s.index('#')-1 if '#' in l else -1\n",
    "        line_i = [s[:lhs_idx], f' {v} ', s[rhs_idx:]]\n",
    "    return s\n",
    "\n",
    "def create_config(cfg_path: Path, target_path: Path, d: dict):\n",
    "    with open(cfg_path, 'r') as f:\n",
    "        line = f.readlines()\n",
    "\n",
    "    n_replace = len(d)\n",
    "    for name, val in d.items():\n",
    "        for l in line:\n",
    "            if re.search(name, l) and (m:=re.search('= *[^(#|\\r\\n|\\r|\\n)]*', l)):\n",
    "                n_replace -= 1\n",
    "                lhs, rhs = m.span()\n",
    "                l = [l[:lhs], f' {val} ', l[rhs:]]\n",
    "    \n",
    "    assert n_replace == 0\n",
    "    \n",
    "    with open(target_path, 'w') as f:\n",
    "        f.writelines()\n",
    "    \n",
    "    return None\n",
    "    \n",
    "    \n",
    "    \n",
    "    # if re.search('n_step', l):\n",
    "    #     break\n",
    "    # match0 = re.search(' *n_step *: *= *', l)\n",
    "    # if match0:\n",
    "    #     break\n",
    "\n",
    "# if :\n",
    "#     print(m.span())\n",
    "\n",
    "# print(match0)\n",
    "\n",
    "# line = [search_and_replace_hypam_val('n_step', l) for l in line]\n",
    "# with open(target_path, 'w'):\n",
    "\n",
    "# for l in line:\n",
    "    \n",
    "\n",
    "# for l in line:\n",
    "#     print(l)\n",
    "\n",
    "\n",
    "\n"
   ]
  },
  {
   "cell_type": "code",
   "execution_count": 94,
   "metadata": {},
   "outputs": [
    {
     "data": {
      "text/plain": [
       "<re.Match object; span=(36, 41), match='= 100'>"
      ]
     },
     "execution_count": 94,
     "metadata": {},
     "output_type": "execute_result"
    }
   ],
   "source": [
    "\n",
    "m = re.search('= *[^(#|\\r\\n|\\r|\\n)]*', l)\n",
    "lhs_idx = m.span()\n",
    "# if m := re.search('#'):\n",
    "\n",
    "# m = re.search(' *= *[^ ]*', l)\n",
    "m\n",
    "# (#|\\r\\n|\\r|\\n)\n",
    "# (#|\\r\\n|\\r|\\n)\n"
   ]
  },
  {
   "cell_type": "code",
   "execution_count": 2,
   "metadata": {},
   "outputs": [],
   "source": [
    "from pathlib import Path\n",
    "args = ['./max', 'x', 't.csv']\n",
    "x = Path(*args)"
   ]
  },
  {
   "cell_type": "code",
   "execution_count": 3,
   "metadata": {},
   "outputs": [
    {
     "ename": "AttributeError",
     "evalue": "module 'yaml' has no attribute 'register_class'",
     "output_type": "error",
     "traceback": [
      "\u001b[1;31m---------------------------------------------------------------------------\u001b[0m",
      "\u001b[1;31mAttributeError\u001b[0m                            Traceback (most recent call last)",
      "Cell \u001b[1;32mIn [3], line 2\u001b[0m\n\u001b[0;32m      1\u001b[0m \u001b[38;5;28;01mimport\u001b[39;00m \u001b[38;5;21;01myaml\u001b[39;00m\n\u001b[1;32m----> 2\u001b[0m \u001b[38;5;28;01mfrom\u001b[39;00m \u001b[38;5;21;01mboring_utils\u001b[39;00m \u001b[38;5;28;01mimport\u001b[39;00m load_yaml\n\u001b[0;32m      4\u001b[0m x \u001b[38;5;241m=\u001b[39m load_yaml(\u001b[38;5;124m'\u001b[39m\u001b[38;5;124mcfg.yaml\u001b[39m\u001b[38;5;124m'\u001b[39m)\n\u001b[0;32m      6\u001b[0m \u001b[38;5;28;01mfor\u001b[39;00m k, v \u001b[38;5;129;01min\u001b[39;00m x\u001b[38;5;241m.\u001b[39mitems():\n",
      "File \u001b[1;32mc:\\Users\\amwil\\projects\\hwapnet\\src\\walle\\boring_utils.py:170\u001b[0m\n\u001b[0;32m    165\u001b[0m         x \u001b[39m=\u001b[39m pk\u001b[39m.\u001b[39mload(f)\n\u001b[0;32m    166\u001b[0m     \u001b[39mreturn\u001b[39;00m x\n\u001b[1;32m--> 170\u001b[0m \u001b[39m@yaml\u001b[39m\u001b[39m.\u001b[39;49mregister_class\n\u001b[0;32m    171\u001b[0m \u001b[39mclass\u001b[39;00m \u001b[39mArray\u001b[39;00m(yaml\u001b[39m.\u001b[39mYAMLObject):\n\u001b[0;32m    172\u001b[0m     yaml_tag \u001b[39m=\u001b[39m \u001b[39mu\u001b[39m\u001b[39m'\u001b[39m\u001b[39m!numpy_arr\u001b[39m\u001b[39m'\u001b[39m\n\u001b[0;32m    174\u001b[0m     \u001b[39m@classmethod\u001b[39m\n\u001b[0;32m    175\u001b[0m     \u001b[39mdef\u001b[39;00m \u001b[39mfrom_yaml\u001b[39m(\u001b[39mcls\u001b[39m, constructor, node):\n",
      "\u001b[1;31mAttributeError\u001b[0m: module 'yaml' has no attribute 'register_class'"
     ]
    }
   ],
   "source": [
    "import yaml\n",
    "from boring_utils import load_yaml\n",
    "\n",
    "x = load_yaml('cfg.yaml')\n",
    "\n",
    "for k, v in x.items():\n",
    "    print(k, v, type(v))\n",
    "\n",
    "with open('tmp.yaml', 'w') as f:\n",
    "    yaml.dump(x, f, default_style='\"')\n",
    "\n",
    "def create_yaml(d: dict, path: str):\n",
    "\n",
    "    with open(path, 'w') as f:\n",
    "        for k, v in d.items():\n",
    "            t = type(v).__name__\n",
    "            line = f'{k}: !!{t} {v} \\n'\n",
    "            f.writelines(line)\n",
    "\n",
    "# create_yaml(x, 'tmp.yaml')"
   ]
  },
  {
   "cell_type": "code",
   "execution_count": 26,
   "metadata": {},
   "outputs": [
    {
     "name": "stdout",
     "output_type": "stream",
     "text": [
      "tag:yaml.org,2002:seq\n",
      "tag:yaml.org,2002:seq\n",
      "tag:yaml.org,2002:seq\n",
      "tag:yaml.org,2002:seq\n",
      "tag:yaml.org,2002:seq\n",
      "tag:yaml.org,2002:seq\n",
      "tag:yaml.org,2002:int\n"
     ]
    },
    {
     "data": {
      "text/plain": [
       "{'default': {'unit_cell_basis': array([[1., 0., 0.],\n",
       "         [0., 1., 0.],\n",
       "         [0., 0., 1.]]),\n",
       "  'supercell_dims': array([[1, 1, 1]]),\n",
       "  'r_s': 1.0},\n",
       " 'H': {'pbc': False,\n",
       "  'z_atoms': array([[1]]),\n",
       "  'r_atoms': array([[0., 0., 0.]])},\n",
       " 'N': {'pbc': False, 'z_atoms': array([7])}}"
      ]
     },
     "execution_count": 26,
     "metadata": {},
     "output_type": "execute_result"
    }
   ],
   "source": [
    "from boring_utils import load_yaml\n",
    "\n",
    "x = load_yaml('../system_library.yaml')\n",
    "\n",
    "x"
   ]
  },
  {
   "cell_type": "code",
   "execution_count": 48,
   "metadata": {},
   "outputs": [
    {
     "name": "stdout",
     "output_type": "stream",
     "text": [
      "Unexpected exception formatting exception. Falling back to standard exception\n"
     ]
    },
    {
     "name": "stderr",
     "output_type": "stream",
     "text": [
      "Traceback (most recent call last):\n",
      "  File \"c:\\Users\\amwil\\miniconda3\\envs\\boop\\lib\\site-packages\\IPython\\core\\interactiveshell.py\", line 3378, in run_code\n",
      "    exec(code_obj, self.user_global_ns, self.user_ns)\n",
      "  File \"C:\\Users\\amwil\\AppData\\Local\\Temp\\ipykernel_16556\\1034743983.py\", line 4, in <module>\n",
      "    system = load_yaml(oj(THIS_DIR, 'system_library.yaml'))\n",
      "  File \"c:\\Users\\amwil\\projects\\hwapnet\\src\\walle\\boring_utils.py\", line 172, in load_yaml\n",
      "    yaml_tag = u'!numpy_arr'\n",
      "  File \"c:\\Users\\amwil\\miniconda3\\envs\\boop\\lib\\site-packages\\yaml\\__init__.py\", line 81, in load\n",
      "    return loader.get_single_data()\n",
      "  File \"c:\\Users\\amwil\\miniconda3\\envs\\boop\\lib\\site-packages\\yaml\\constructor.py\", line 51, in get_single_data\n",
      "    return self.construct_document(node)\n",
      "  File \"c:\\Users\\amwil\\miniconda3\\envs\\boop\\lib\\site-packages\\yaml\\constructor.py\", line 60, in construct_document\n",
      "    for dummy in generator:\n",
      "  File \"c:\\Users\\amwil\\miniconda3\\envs\\boop\\lib\\site-packages\\yaml\\constructor.py\", line 413, in construct_yaml_map\n",
      "    value = self.construct_mapping(node)\n",
      "  File \"c:\\Users\\amwil\\miniconda3\\envs\\boop\\lib\\site-packages\\yaml\\constructor.py\", line 218, in construct_mapping\n",
      "    return super().construct_mapping(node, deep=deep)\n",
      "  File \"c:\\Users\\amwil\\miniconda3\\envs\\boop\\lib\\site-packages\\yaml\\constructor.py\", line 143, in construct_mapping\n",
      "    value = self.construct_object(value_node, deep=deep)\n",
      "  File \"c:\\Users\\amwil\\miniconda3\\envs\\boop\\lib\\site-packages\\yaml\\constructor.py\", line 100, in construct_object\n",
      "    data = constructor(self, node)\n",
      "  File \"c:\\Users\\amwil\\miniconda3\\envs\\boop\\lib\\site-packages\\yaml\\constructor.py\", line 427, in construct_undefined\n",
      "    raise ConstructorError(None, None,\n",
      "yaml.constructor.ConstructorError: could not determine a constructor for the tag '!numpy_arr'\n",
      "  in \"C:\\Users\\amwil\\projects\\hwapnet\\src\\system_library.yaml\", line 2, column 20\n",
      "\n",
      "During handling of the above exception, another exception occurred:\n",
      "\n",
      "Traceback (most recent call last):\n",
      "  File \"c:\\Users\\amwil\\miniconda3\\envs\\boop\\lib\\site-packages\\IPython\\core\\interactiveshell.py\", line 1997, in showtraceback\n",
      "    stb = self.InteractiveTB.structured_traceback(\n",
      "  File \"c:\\Users\\amwil\\miniconda3\\envs\\boop\\lib\\site-packages\\IPython\\core\\ultratb.py\", line 1112, in structured_traceback\n",
      "    return FormattedTB.structured_traceback(\n",
      "  File \"c:\\Users\\amwil\\miniconda3\\envs\\boop\\lib\\site-packages\\IPython\\core\\ultratb.py\", line 1006, in structured_traceback\n",
      "    return VerboseTB.structured_traceback(\n",
      "  File \"c:\\Users\\amwil\\miniconda3\\envs\\boop\\lib\\site-packages\\IPython\\core\\ultratb.py\", line 859, in structured_traceback\n",
      "    formatted_exception = self.format_exception_as_a_whole(etype, evalue, etb, number_of_lines_of_context,\n",
      "  File \"c:\\Users\\amwil\\miniconda3\\envs\\boop\\lib\\site-packages\\IPython\\core\\ultratb.py\", line 812, in format_exception_as_a_whole\n",
      "    frames.append(self.format_record(r))\n",
      "  File \"c:\\Users\\amwil\\miniconda3\\envs\\boop\\lib\\site-packages\\IPython\\core\\ultratb.py\", line 730, in format_record\n",
      "    result += ''.join(_format_traceback_lines(frame_info.lines, Colors, self.has_colors, lvals))\n",
      "  File \"c:\\Users\\amwil\\miniconda3\\envs\\boop\\lib\\site-packages\\stack_data\\utils.py\", line 145, in cached_property_wrapper\n",
      "    value = obj.__dict__[self.func.__name__] = self.func(obj)\n",
      "  File \"c:\\Users\\amwil\\miniconda3\\envs\\boop\\lib\\site-packages\\stack_data\\core.py\", line 734, in lines\n",
      "    pieces = self.included_pieces\n",
      "  File \"c:\\Users\\amwil\\miniconda3\\envs\\boop\\lib\\site-packages\\stack_data\\utils.py\", line 145, in cached_property_wrapper\n",
      "    value = obj.__dict__[self.func.__name__] = self.func(obj)\n",
      "  File \"c:\\Users\\amwil\\miniconda3\\envs\\boop\\lib\\site-packages\\stack_data\\core.py\", line 681, in included_pieces\n",
      "    pos = scope_pieces.index(self.executing_piece)\n",
      "  File \"c:\\Users\\amwil\\miniconda3\\envs\\boop\\lib\\site-packages\\stack_data\\utils.py\", line 145, in cached_property_wrapper\n",
      "    value = obj.__dict__[self.func.__name__] = self.func(obj)\n",
      "  File \"c:\\Users\\amwil\\miniconda3\\envs\\boop\\lib\\site-packages\\stack_data\\core.py\", line 660, in executing_piece\n",
      "    return only(\n",
      "  File \"c:\\Users\\amwil\\miniconda3\\envs\\boop\\lib\\site-packages\\executing\\executing.py\", line 164, in only\n",
      "    raise NotOneValueFound('Expected one value, found 0')\n",
      "executing.executing.NotOneValueFound: Expected one value, found 0\n"
     ]
    }
   ],
   "source": [
    "from boring_utils import load_yaml, oj\n",
    "from pathlib import Path\n",
    "THIS_DIR = Path(r\"C:\\Users\\amwil\\projects\\hwapnet\\src\\cfg.yaml\").parent\n",
    "system = load_yaml(oj(THIS_DIR, 'system_library.yaml'))"
   ]
  },
  {
   "cell_type": "code",
   "execution_count": null,
   "metadata": {},
   "outputs": [],
   "source": []
  },
  {
   "cell_type": "code",
   "execution_count": 46,
   "metadata": {},
   "outputs": [
    {
     "name": "stdout",
     "output_type": "stream",
     "text": [
      "The autoreload extension is already loaded. To reload it, use:\n",
      "  %reload_ext autoreload\n",
      "True\n",
      "here\n",
      "Config\n",
      "run_dir:        tmp (WindowsPath)\n",
      "some_int:       1 (int)\n",
      "array:          [1.0, 1.0] (list)\n",
      ":               [2.0, 3.0] (list)\n",
      "path:           tmp\\cfg.pk (WindowsPath)\n",
      "state_file:     tmp\\state\\i{:d}.pk (WindowsPath)\n",
      "{'run_dir': WindowsPath('tmp'), 'some_int': 1, 'array': array([[1., 1.],\n",
      "       [2., 3.]]), 'path': WindowsPath('tmp/cfg.pk'), 'state_file': WindowsPath('tmp/state/i{:d}.pk')}\n"
     ]
    }
   ],
   "source": [
    "%load_ext autoreload\n",
    "%autoreload 0\n",
    "\n",
    "from utils import ojm, load_pk, save_pk, save_dict_as_yaml, oj, ojm, pretty_print_dict\n",
    "from typing import Any, Iterable\n",
    "from pathlib import Path\n",
    "import numpy as np\n",
    "\n",
    "print(isinstance({}, Iterable))\n",
    "\n",
    "d = {\n",
    "    'run_dir': Path('./tmp'),\n",
    "    'some_int': 1,\n",
    "    'array': np.array([[1., 1.], [2., 3.]])\n",
    "}\n",
    "\n",
    "from utils import Cfg\n",
    "\n",
    "cfg = Cfg(d)\n",
    "\n"
   ]
  },
  {
   "cell_type": "code",
   "execution_count": 36,
   "metadata": {},
   "outputs": [
    {
     "data": {
      "text/plain": [
       "{'run_dir': WindowsPath('tmp'),\n",
       " 'some_int': 1,\n",
       " 'array': array([[1., 1.],\n",
       "        [2., 3.]]),\n",
       " 'path': WindowsPath('tmp/cfg.pk'),\n",
       " 'state_file': WindowsPath('tmp/state'),\n",
       " 'new': 'new',\n",
       " 'x': {'new': 'new'}}"
      ]
     },
     "execution_count": 36,
     "metadata": {},
     "output_type": "execute_result"
    }
   ],
   "source": [
    "cfg.get_dict()"
   ]
  },
  {
   "cell_type": "code",
   "execution_count": 41,
   "metadata": {},
   "outputs": [
    {
     "data": {
      "text/plain": [
       "WindowsPath('tmp/i.csv')"
      ]
     },
     "execution_count": 41,
     "metadata": {},
     "output_type": "execute_result"
    }
   ],
   "source": [
    "x = Path(d['run_dir'] + '/i.pk')\n",
    "x.with_suffix('.csv')"
   ]
  },
  {
   "cell_type": "code",
   "execution_count": 24,
   "metadata": {},
   "outputs": [
    {
     "data": {
      "text/plain": [
       "'     '"
      ]
     },
     "execution_count": 24,
     "metadata": {},
     "output_type": "execute_result"
    }
   ],
   "source": [
    "f' ' * 5"
   ]
  },
  {
   "cell_type": "code",
   "execution_count": 5,
   "metadata": {},
   "outputs": [],
   "source": [
    "import numpy as np\n",
    "\n",
    "scale_cell = 1.\n",
    "basis = np.array([[1,0,0],[0,1,0],[0,0,1]], dtype=float)\n",
    "single_cell_basis = basis * scale_cell\n",
    "supercell_dims = (1, 1, 1)\n",
    "simulation_cell_transforms = [np.array([x, y, z])[:, None] for z in range(supercell_dims[2]) for y in range(supercell_dims[1]) for x in range(supercell_dims[0])]\n",
    "simulation_cell = np.array(supercell_dims)[:, None]\n",
    "basis = single_cell_basis * simulation_cell"
   ]
  },
  {
   "cell_type": "code",
   "execution_count": 6,
   "metadata": {},
   "outputs": [
    {
     "data": {
      "text/plain": [
       "array([[1., 0., 0.],\n",
       "       [0., 1., 0.],\n",
       "       [0., 0., 1.]])"
      ]
     },
     "execution_count": 6,
     "metadata": {},
     "output_type": "execute_result"
    }
   ],
   "source": [
    "basis"
   ]
  },
  {
   "cell_type": "code",
   "execution_count": null,
   "metadata": {},
   "outputs": [],
   "source": []
  }
 ],
 "metadata": {
  "kernelspec": {
   "display_name": "Python 3.10.6 ('hotseat')",
   "language": "python",
   "name": "python3"
  },
  "language_info": {
   "codemirror_mode": {
    "name": "ipython",
    "version": 3
   },
   "file_extension": ".py",
   "mimetype": "text/x-python",
   "name": "python",
   "nbconvert_exporter": "python",
   "pygments_lexer": "ipython3",
   "version": "3.10.6"
  },
  "orig_nbformat": 4,
  "vscode": {
   "interpreter": {
    "hash": "913e0bdf535b9359a7637801bcbd63117994aa739fd9820024a6fcca35e62374"
   }
  }
 },
 "nbformat": 4,
 "nbformat_minor": 2
}
