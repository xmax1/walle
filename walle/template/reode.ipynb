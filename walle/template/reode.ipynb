{
 "cells": [
  {
   "cell_type": "markdown",
   "metadata": {},
   "source": [
    "[Jonathon Ho, Google, 2022](https://arxiv.org/pdf/2204.03458.pdf)\n",
    "\n",
    "Generating temporally coherent high fidelity video is an important milestone in\n",
    "generative modeling research. We make progress towards this milestone by proposing a diffusion model for video generation that shows very promising initial results.\n",
    "Our model is a natural extension of the standard image diffusion architecture, and\n",
    "it enables jointly training from image and video data, which we find to reduce the\n",
    "variance of minibatch gradients and speed up optimization. To generate long and\n",
    "higher resolution videos we introduce a new conditional sampling technique for\n",
    "spatial and temporal video extension that performs better than previously proposed\n",
    "methods. We present the first results on a large text-conditioned video generation\n",
    "task, as well as state-of-the-art results on established benchmarks for video prediction and unconditional video generation. Supplementary material is available at\n",
    "\n",
    "[code](https://video-diffusion.github.io/)"
   ]
  },
  {
   "cell_type": "code",
   "execution_count": 2,
   "metadata": {},
   "outputs": [],
   "source": [
    "def download_pdf(url, file_name, headers):\n",
    "    import requests    # Send GET request\n",
    "    response = requests.get(url, headers=headers)\n",
    "    # Save the PDF\n",
    "    if response.status_code == 200:\n",
    "        with open(file_name, \"wb\") as f:\n",
    "            f.write(response.content)\n",
    "    else:\n",
    "        print(response.status_code)\n",
    "\n",
    "# Define HTTP Headers\n",
    "headers = {\n",
    "    \"User-Agent\": \"Chrome/51.0.2704.103\",\n",
    "}\n",
    "# Define URL of an image\n",
    "url = 'https://arxiv.org/pdf/2204.03458.pdf'\n",
    "# Define image file name\n",
    "file_name = \"hoGoogleDiffVid.pdf\"\n",
    "# Download image\n",
    "download_pdf(url, file_name, headers)"
   ]
  },
  {
   "cell_type": "code",
   "execution_count": null,
   "metadata": {},
   "outputs": [],
   "source": [
    "from tika import parser # pip install tika\n",
    "\n",
    "raw = parser.from_file('sample.pdf')\n",
    "print(raw['content'])"
   ]
  },
  {
   "cell_type": "markdown",
   "metadata": {},
   "source": []
  },
  {
   "cell_type": "code",
   "execution_count": null,
   "metadata": {},
   "outputs": [],
   "source": []
  },
  {
   "cell_type": "markdown",
   "metadata": {},
   "source": []
  },
  {
   "cell_type": "code",
   "execution_count": null,
   "metadata": {},
   "outputs": [],
   "source": []
  },
  {
   "cell_type": "code",
   "execution_count": null,
   "metadata": {},
   "outputs": [],
   "source": []
  }
 ],
 "metadata": {
  "kernelspec": {
   "display_name": "Python 3.10.6 ('hotseat')",
   "language": "python",
   "name": "python3"
  },
  "language_info": {
   "codemirror_mode": {
    "name": "ipython",
    "version": 3
   },
   "file_extension": ".py",
   "mimetype": "text/x-python",
   "name": "python",
   "nbconvert_exporter": "python",
   "pygments_lexer": "ipython3",
   "version": "3.10.6"
  },
  "orig_nbformat": 4,
  "vscode": {
   "interpreter": {
    "hash": "913e0bdf535b9359a7637801bcbd63117994aa739fd9820024a6fcca35e62374"
   }
  }
 },
 "nbformat": 4,
 "nbformat_minor": 2
}
