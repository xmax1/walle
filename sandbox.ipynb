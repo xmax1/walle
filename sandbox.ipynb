{
 "cells": [
  {
   "cell_type": "code",
   "execution_count": 1,
   "metadata": {},
   "outputs": [],
   "source": [
    "%load_ext autoreload\n",
    "%autoreload 2"
   ]
  },
  {
   "cell_type": "code",
   "execution_count": 2,
   "metadata": {},
   "outputs": [],
   "source": [
    "from pathlib import Path\n",
    "args = ['./max', 'x', 't.csv']\n",
    "x = Path(*args)"
   ]
  },
  {
   "cell_type": "code",
   "execution_count": 3,
   "metadata": {},
   "outputs": [
    {
     "ename": "AttributeError",
     "evalue": "module 'yaml' has no attribute 'register_class'",
     "output_type": "error",
     "traceback": [
      "\u001b[1;31m---------------------------------------------------------------------------\u001b[0m",
      "\u001b[1;31mAttributeError\u001b[0m                            Traceback (most recent call last)",
      "Cell \u001b[1;32mIn [3], line 2\u001b[0m\n\u001b[0;32m      1\u001b[0m \u001b[38;5;28;01mimport\u001b[39;00m \u001b[38;5;21;01myaml\u001b[39;00m\n\u001b[1;32m----> 2\u001b[0m \u001b[38;5;28;01mfrom\u001b[39;00m \u001b[38;5;21;01mboring_utils\u001b[39;00m \u001b[38;5;28;01mimport\u001b[39;00m load_yaml\n\u001b[0;32m      4\u001b[0m x \u001b[38;5;241m=\u001b[39m load_yaml(\u001b[38;5;124m'\u001b[39m\u001b[38;5;124mcfg.yaml\u001b[39m\u001b[38;5;124m'\u001b[39m)\n\u001b[0;32m      6\u001b[0m \u001b[38;5;28;01mfor\u001b[39;00m k, v \u001b[38;5;129;01min\u001b[39;00m x\u001b[38;5;241m.\u001b[39mitems():\n",
      "File \u001b[1;32mc:\\Users\\amwil\\projects\\hwapnet\\src\\walle\\boring_utils.py:170\u001b[0m\n\u001b[0;32m    165\u001b[0m         x \u001b[39m=\u001b[39m pk\u001b[39m.\u001b[39mload(f)\n\u001b[0;32m    166\u001b[0m     \u001b[39mreturn\u001b[39;00m x\n\u001b[1;32m--> 170\u001b[0m \u001b[39m@yaml\u001b[39m\u001b[39m.\u001b[39;49mregister_class\n\u001b[0;32m    171\u001b[0m \u001b[39mclass\u001b[39;00m \u001b[39mArray\u001b[39;00m(yaml\u001b[39m.\u001b[39mYAMLObject):\n\u001b[0;32m    172\u001b[0m     yaml_tag \u001b[39m=\u001b[39m \u001b[39mu\u001b[39m\u001b[39m'\u001b[39m\u001b[39m!numpy_arr\u001b[39m\u001b[39m'\u001b[39m\n\u001b[0;32m    174\u001b[0m     \u001b[39m@classmethod\u001b[39m\n\u001b[0;32m    175\u001b[0m     \u001b[39mdef\u001b[39;00m \u001b[39mfrom_yaml\u001b[39m(\u001b[39mcls\u001b[39m, constructor, node):\n",
      "\u001b[1;31mAttributeError\u001b[0m: module 'yaml' has no attribute 'register_class'"
     ]
    }
   ],
   "source": [
    "import yaml\n",
    "from boring_utils import load_yaml\n",
    "\n",
    "x = load_yaml('cfg.yaml')\n",
    "\n",
    "for k, v in x.items():\n",
    "    print(k, v, type(v))\n",
    "\n",
    "with open('tmp.yaml', 'w') as f:\n",
    "    yaml.dump(x, f, default_style='\"')\n",
    "\n",
    "def create_yaml(d: dict, path: str):\n",
    "\n",
    "    with open(path, 'w') as f:\n",
    "        for k, v in d.items():\n",
    "            t = type(v).__name__\n",
    "            line = f'{k}: !!{t} {v} \\n'\n",
    "            f.writelines(line)\n",
    "\n",
    "# create_yaml(x, 'tmp.yaml')"
   ]
  },
  {
   "cell_type": "code",
   "execution_count": 26,
   "metadata": {},
   "outputs": [
    {
     "name": "stdout",
     "output_type": "stream",
     "text": [
      "tag:yaml.org,2002:seq\n",
      "tag:yaml.org,2002:seq\n",
      "tag:yaml.org,2002:seq\n",
      "tag:yaml.org,2002:seq\n",
      "tag:yaml.org,2002:seq\n",
      "tag:yaml.org,2002:seq\n",
      "tag:yaml.org,2002:int\n"
     ]
    },
    {
     "data": {
      "text/plain": [
       "{'default': {'unit_cell_basis': array([[1., 0., 0.],\n",
       "         [0., 1., 0.],\n",
       "         [0., 0., 1.]]),\n",
       "  'supercell_dims': array([[1, 1, 1]]),\n",
       "  'r_s': 1.0},\n",
       " 'H': {'pbc': False,\n",
       "  'z_atoms': array([[1]]),\n",
       "  'r_atoms': array([[0., 0., 0.]])},\n",
       " 'N': {'pbc': False, 'z_atoms': array([7])}}"
      ]
     },
     "execution_count": 26,
     "metadata": {},
     "output_type": "execute_result"
    }
   ],
   "source": [
    "from boring_utils import load_yaml\n",
    "\n",
    "x = load_yaml('../system_library.yaml')\n",
    "\n",
    "x"
   ]
  },
  {
   "cell_type": "code",
   "execution_count": 48,
   "metadata": {},
   "outputs": [
    {
     "name": "stdout",
     "output_type": "stream",
     "text": [
      "Unexpected exception formatting exception. Falling back to standard exception\n"
     ]
    },
    {
     "name": "stderr",
     "output_type": "stream",
     "text": [
      "Traceback (most recent call last):\n",
      "  File \"c:\\Users\\amwil\\miniconda3\\envs\\boop\\lib\\site-packages\\IPython\\core\\interactiveshell.py\", line 3378, in run_code\n",
      "    exec(code_obj, self.user_global_ns, self.user_ns)\n",
      "  File \"C:\\Users\\amwil\\AppData\\Local\\Temp\\ipykernel_16556\\1034743983.py\", line 4, in <module>\n",
      "    system = load_yaml(oj(THIS_DIR, 'system_library.yaml'))\n",
      "  File \"c:\\Users\\amwil\\projects\\hwapnet\\src\\walle\\boring_utils.py\", line 172, in load_yaml\n",
      "    yaml_tag = u'!numpy_arr'\n",
      "  File \"c:\\Users\\amwil\\miniconda3\\envs\\boop\\lib\\site-packages\\yaml\\__init__.py\", line 81, in load\n",
      "    return loader.get_single_data()\n",
      "  File \"c:\\Users\\amwil\\miniconda3\\envs\\boop\\lib\\site-packages\\yaml\\constructor.py\", line 51, in get_single_data\n",
      "    return self.construct_document(node)\n",
      "  File \"c:\\Users\\amwil\\miniconda3\\envs\\boop\\lib\\site-packages\\yaml\\constructor.py\", line 60, in construct_document\n",
      "    for dummy in generator:\n",
      "  File \"c:\\Users\\amwil\\miniconda3\\envs\\boop\\lib\\site-packages\\yaml\\constructor.py\", line 413, in construct_yaml_map\n",
      "    value = self.construct_mapping(node)\n",
      "  File \"c:\\Users\\amwil\\miniconda3\\envs\\boop\\lib\\site-packages\\yaml\\constructor.py\", line 218, in construct_mapping\n",
      "    return super().construct_mapping(node, deep=deep)\n",
      "  File \"c:\\Users\\amwil\\miniconda3\\envs\\boop\\lib\\site-packages\\yaml\\constructor.py\", line 143, in construct_mapping\n",
      "    value = self.construct_object(value_node, deep=deep)\n",
      "  File \"c:\\Users\\amwil\\miniconda3\\envs\\boop\\lib\\site-packages\\yaml\\constructor.py\", line 100, in construct_object\n",
      "    data = constructor(self, node)\n",
      "  File \"c:\\Users\\amwil\\miniconda3\\envs\\boop\\lib\\site-packages\\yaml\\constructor.py\", line 427, in construct_undefined\n",
      "    raise ConstructorError(None, None,\n",
      "yaml.constructor.ConstructorError: could not determine a constructor for the tag '!numpy_arr'\n",
      "  in \"C:\\Users\\amwil\\projects\\hwapnet\\src\\system_library.yaml\", line 2, column 20\n",
      "\n",
      "During handling of the above exception, another exception occurred:\n",
      "\n",
      "Traceback (most recent call last):\n",
      "  File \"c:\\Users\\amwil\\miniconda3\\envs\\boop\\lib\\site-packages\\IPython\\core\\interactiveshell.py\", line 1997, in showtraceback\n",
      "    stb = self.InteractiveTB.structured_traceback(\n",
      "  File \"c:\\Users\\amwil\\miniconda3\\envs\\boop\\lib\\site-packages\\IPython\\core\\ultratb.py\", line 1112, in structured_traceback\n",
      "    return FormattedTB.structured_traceback(\n",
      "  File \"c:\\Users\\amwil\\miniconda3\\envs\\boop\\lib\\site-packages\\IPython\\core\\ultratb.py\", line 1006, in structured_traceback\n",
      "    return VerboseTB.structured_traceback(\n",
      "  File \"c:\\Users\\amwil\\miniconda3\\envs\\boop\\lib\\site-packages\\IPython\\core\\ultratb.py\", line 859, in structured_traceback\n",
      "    formatted_exception = self.format_exception_as_a_whole(etype, evalue, etb, number_of_lines_of_context,\n",
      "  File \"c:\\Users\\amwil\\miniconda3\\envs\\boop\\lib\\site-packages\\IPython\\core\\ultratb.py\", line 812, in format_exception_as_a_whole\n",
      "    frames.append(self.format_record(r))\n",
      "  File \"c:\\Users\\amwil\\miniconda3\\envs\\boop\\lib\\site-packages\\IPython\\core\\ultratb.py\", line 730, in format_record\n",
      "    result += ''.join(_format_traceback_lines(frame_info.lines, Colors, self.has_colors, lvals))\n",
      "  File \"c:\\Users\\amwil\\miniconda3\\envs\\boop\\lib\\site-packages\\stack_data\\utils.py\", line 145, in cached_property_wrapper\n",
      "    value = obj.__dict__[self.func.__name__] = self.func(obj)\n",
      "  File \"c:\\Users\\amwil\\miniconda3\\envs\\boop\\lib\\site-packages\\stack_data\\core.py\", line 734, in lines\n",
      "    pieces = self.included_pieces\n",
      "  File \"c:\\Users\\amwil\\miniconda3\\envs\\boop\\lib\\site-packages\\stack_data\\utils.py\", line 145, in cached_property_wrapper\n",
      "    value = obj.__dict__[self.func.__name__] = self.func(obj)\n",
      "  File \"c:\\Users\\amwil\\miniconda3\\envs\\boop\\lib\\site-packages\\stack_data\\core.py\", line 681, in included_pieces\n",
      "    pos = scope_pieces.index(self.executing_piece)\n",
      "  File \"c:\\Users\\amwil\\miniconda3\\envs\\boop\\lib\\site-packages\\stack_data\\utils.py\", line 145, in cached_property_wrapper\n",
      "    value = obj.__dict__[self.func.__name__] = self.func(obj)\n",
      "  File \"c:\\Users\\amwil\\miniconda3\\envs\\boop\\lib\\site-packages\\stack_data\\core.py\", line 660, in executing_piece\n",
      "    return only(\n",
      "  File \"c:\\Users\\amwil\\miniconda3\\envs\\boop\\lib\\site-packages\\executing\\executing.py\", line 164, in only\n",
      "    raise NotOneValueFound('Expected one value, found 0')\n",
      "executing.executing.NotOneValueFound: Expected one value, found 0\n"
     ]
    }
   ],
   "source": [
    "from boring_utils import load_yaml, oj\n",
    "from pathlib import Path\n",
    "THIS_DIR = Path(r\"C:\\Users\\amwil\\projects\\hwapnet\\src\\cfg.yaml\").parent\n",
    "system = load_yaml(oj(THIS_DIR, 'system_library.yaml'))"
   ]
  },
  {
   "cell_type": "code",
   "execution_count": null,
   "metadata": {},
   "outputs": [],
   "source": []
  },
  {
   "cell_type": "code",
   "execution_count": 46,
   "metadata": {},
   "outputs": [
    {
     "name": "stdout",
     "output_type": "stream",
     "text": [
      "The autoreload extension is already loaded. To reload it, use:\n",
      "  %reload_ext autoreload\n",
      "True\n",
      "here\n",
      "Config\n",
      "run_dir:        tmp (WindowsPath)\n",
      "some_int:       1 (int)\n",
      "array:          [1.0, 1.0] (list)\n",
      ":               [2.0, 3.0] (list)\n",
      "path:           tmp\\cfg.pk (WindowsPath)\n",
      "state_file:     tmp\\state\\i{:d}.pk (WindowsPath)\n",
      "{'run_dir': WindowsPath('tmp'), 'some_int': 1, 'array': array([[1., 1.],\n",
      "       [2., 3.]]), 'path': WindowsPath('tmp/cfg.pk'), 'state_file': WindowsPath('tmp/state/i{:d}.pk')}\n"
     ]
    }
   ],
   "source": [
    "%load_ext autoreload\n",
    "%autoreload 0\n",
    "\n",
    "from utils import ojm, load_pk, save_pk, save_dict_as_yaml, oj, ojm, pretty_print_dict\n",
    "from typing import Any, Iterable\n",
    "from pathlib import Path\n",
    "import numpy as np\n",
    "\n",
    "print(isinstance({}, Iterable))\n",
    "\n",
    "d = {\n",
    "    'run_dir': Path('./tmp'),\n",
    "    'some_int': 1,\n",
    "    'array': np.array([[1., 1.], [2., 3.]])\n",
    "}\n",
    "\n",
    "from utils import Cfg\n",
    "\n",
    "cfg = Cfg(d)\n",
    "\n"
   ]
  },
  {
   "cell_type": "code",
   "execution_count": 36,
   "metadata": {},
   "outputs": [
    {
     "data": {
      "text/plain": [
       "{'run_dir': WindowsPath('tmp'),\n",
       " 'some_int': 1,\n",
       " 'array': array([[1., 1.],\n",
       "        [2., 3.]]),\n",
       " 'path': WindowsPath('tmp/cfg.pk'),\n",
       " 'state_file': WindowsPath('tmp/state'),\n",
       " 'new': 'new',\n",
       " 'x': {'new': 'new'}}"
      ]
     },
     "execution_count": 36,
     "metadata": {},
     "output_type": "execute_result"
    }
   ],
   "source": [
    "cfg.get_dict()"
   ]
  },
  {
   "cell_type": "code",
   "execution_count": 41,
   "metadata": {},
   "outputs": [
    {
     "data": {
      "text/plain": [
       "WindowsPath('tmp/i.csv')"
      ]
     },
     "execution_count": 41,
     "metadata": {},
     "output_type": "execute_result"
    }
   ],
   "source": [
    "x = Path(d['run_dir'] + '/i.pk')\n",
    "x.with_suffix('.csv')"
   ]
  },
  {
   "cell_type": "code",
   "execution_count": 24,
   "metadata": {},
   "outputs": [
    {
     "data": {
      "text/plain": [
       "'     '"
      ]
     },
     "execution_count": 24,
     "metadata": {},
     "output_type": "execute_result"
    }
   ],
   "source": [
    "f' ' * 5"
   ]
  },
  {
   "cell_type": "code",
   "execution_count": 5,
   "metadata": {},
   "outputs": [],
   "source": [
    "import numpy as np\n",
    "\n",
    "scale_cell = 1.\n",
    "basis = np.array([[1,0,0],[0,1,0],[0,0,1]], dtype=float)\n",
    "single_cell_basis = basis * scale_cell\n",
    "supercell_dims = (1, 1, 1)\n",
    "simulation_cell_transforms = [np.array([x, y, z])[:, None] for z in range(supercell_dims[2]) for y in range(supercell_dims[1]) for x in range(supercell_dims[0])]\n",
    "simulation_cell = np.array(supercell_dims)[:, None]\n",
    "basis = single_cell_basis * simulation_cell"
   ]
  },
  {
   "cell_type": "code",
   "execution_count": 6,
   "metadata": {},
   "outputs": [
    {
     "data": {
      "text/plain": [
       "array([[1., 0., 0.],\n",
       "       [0., 1., 0.],\n",
       "       [0., 0., 1.]])"
      ]
     },
     "execution_count": 6,
     "metadata": {},
     "output_type": "execute_result"
    }
   ],
   "source": [
    "basis"
   ]
  },
  {
   "cell_type": "code",
   "execution_count": null,
   "metadata": {},
   "outputs": [],
   "source": []
  }
 ],
 "metadata": {
  "kernelspec": {
   "display_name": "Python 3.10.0 ('boop')",
   "language": "python",
   "name": "python3"
  },
  "language_info": {
   "codemirror_mode": {
    "name": "ipython",
    "version": 3
   },
   "file_extension": ".py",
   "mimetype": "text/x-python",
   "name": "python",
   "nbconvert_exporter": "python",
   "pygments_lexer": "ipython3",
   "version": "3.10.4"
  },
  "orig_nbformat": 4,
  "vscode": {
   "interpreter": {
    "hash": "e5f022033e52a3e9bf5818456d7e6a408f77f34cc0c5539a7328093dc10275b1"
   }
  }
 },
 "nbformat": 4,
 "nbformat_minor": 2
}
