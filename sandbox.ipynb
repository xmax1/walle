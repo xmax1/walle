{
 "cells": [
  {
   "cell_type": "code",
   "execution_count": 1,
   "metadata": {},
   "outputs": [],
   "source": [
    "%load_ext autoreload\n",
    "%autoreload 2"
   ]
  },
  {
   "cell_type": "code",
   "execution_count": 26,
   "metadata": {},
   "outputs": [
    {
     "name": "stdout",
     "output_type": "stream",
     "text": [
      "n_it 1000 <class 'int'>\n",
      "entity xmax1 <class 'str'>\n",
      "project hwapnet <class 'str'>\n",
      "sweep_name None <class 'NoneType'>\n",
      "wandb True <class 'bool'>\n",
      "log_metric_it 100 <class 'int'>\n",
      "log_state_it 1000 <class 'int'>\n"
     ]
    }
   ],
   "source": [
    "import yaml\n",
    "from boring_utils import load_yaml\n",
    "\n",
    "x = load_yaml('cfg.yaml')\n",
    "\n",
    "for k, v in x.items():\n",
    "    print(k, v, type(v))\n",
    "\n",
    "with open('tmp.yaml', 'w') as f:\n",
    "    yaml.dump(x, f, default_style='\"')\n",
    "\n",
    "def create_yaml(d: dict, path: str):\n",
    "\n",
    "    with open(path, 'w') as f:\n",
    "        for k, v in d.items():\n",
    "            t = type(v).__name__\n",
    "            line = f'{k}: !!{t} {v} \\n'\n",
    "            f.writelines(line)\n",
    "\n",
    "create_yaml(x, 'tmp.yaml')"
   ]
  }
 ],
 "metadata": {
  "kernelspec": {
   "display_name": "Python 3.10.0 ('boop')",
   "language": "python",
   "name": "python3"
  },
  "language_info": {
   "codemirror_mode": {
    "name": "ipython",
    "version": 3
   },
   "file_extension": ".py",
   "mimetype": "text/x-python",
   "name": "python",
   "nbconvert_exporter": "python",
   "pygments_lexer": "ipython3",
   "version": "3.10.4"
  },
  "orig_nbformat": 4,
  "vscode": {
   "interpreter": {
    "hash": "e5f022033e52a3e9bf5818456d7e6a408f77f34cc0c5539a7328093dc10275b1"
   }
  }
 },
 "nbformat": 4,
 "nbformat_minor": 2
}
