{
 "cells": [
  {
   "cell_type": "code",
   "execution_count": null,
   "metadata": {},
   "outputs": [
    {
     "ename": "",
     "evalue": "",
     "output_type": "error",
     "traceback": [
      "\u001b[1;31mRunning cells with 'Python 3.10.0 ('boop')' requires ipykernel package.\n",
      "\u001b[1;31mRun the following command to install 'ipykernel' into the Python environment. \n",
      "\u001b[1;31mCommand: 'conda install -n boop ipykernel --update-deps --force-reinstall'"
     ]
    }
   ],
   "source": [
    "import yaml\n",
    "\n",
    "from boring_utils import load_yaml\n",
    "\n",
    "x = load_yaml('cfg.yaml')\n",
    "\n",
    "for k, v in x.items():\n",
    "    print(k, v, type(v))\n",
    "\n",
    "with open('tmp.yaml', 'w') as f:\n",
    "    yaml.dump(x, f)"
   ]
  },
  {
   "cell_type": "code",
   "execution_count": null,
   "metadata": {},
   "outputs": [],
   "source": []
  }
 ],
 "metadata": {
  "kernelspec": {
   "display_name": "Python 3.10.0 ('boop')",
   "language": "python",
   "name": "python3"
  },
  "language_info": {
   "codemirror_mode": {
    "name": "ipython",
    "version": 3
   },
   "file_extension": ".py",
   "mimetype": "text/x-python",
   "name": "python",
   "nbconvert_exporter": "python",
   "pygments_lexer": "ipython3",
   "version": "3.10.0"
  },
  "orig_nbformat": 4,
  "vscode": {
   "interpreter": {
    "hash": "e5f022033e52a3e9bf5818456d7e6a408f77f34cc0c5539a7328093dc10275b1"
   }
  }
 },
 "nbformat": 4,
 "nbformat_minor": 2
}
