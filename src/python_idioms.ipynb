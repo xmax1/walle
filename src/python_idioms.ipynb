{
 "cells": [
  {
   "cell_type": "markdown",
   "metadata": {},
   "source": [
    "\n",
    "Markdown cheatsheet  \n",
    "https://www.ibm.com/docs/en/watson-studio-local/1.2.3?topic=notebooks-markdown-jupyter-cheatsheet\n",
    "\n",
    "Notes  \n",
    "1. Double space after end of line  \n",
    "2. '>' block quote  \n",
    "\n",
    "> like this\n",
    "\n",
    "3. code blocks tab (4 spaces)  \n",
    "\n",
    "        like this  \n",
    "    for python\n",
    "```python\n",
    "        fn(x=1)\n",
    "```\n",
    "4. image \\![Tux, the Linux mascot](/assets/images/tux.png) I guess \\!\\[description\\]\\(path\\)  \n",
    "5. y cell goes to code\n",
    "6. m cell goes to markdown\n"
   ]
  },
  {
   "cell_type": "code",
   "execution_count": null,
   "metadata": {},
   "outputs": [],
   "source": [
    "# debugging\n",
    "# python -dbm\n",
    "# https://medium.com/analytics-vidhya/are-you-writing-print-statements-to-debug-your-python-code-690e6ba098e9"
   ]
  },
  {
   "cell_type": "code",
   "execution_count": null,
   "metadata": {},
   "outputs": [],
   "source": [
    "# slurm\n",
    "# python -u unbuffers print statements\n",
    "# https://stackoverflow.com/questions/33178514/how-do-i-save-print-statements-when-running-a-program-in-slurm"
   ]
  },
  {
   "cell_type": "code",
   "execution_count": 3,
   "metadata": {},
   "outputs": [
    {
     "name": "stdout",
     "output_type": "stream",
     "text": [
      "[(0, 0), (0, 1), (0, 2), (0, 3), (0, 4), (1, 0), (1, 1), (1, 2), (1, 3), (1, 4), (2, 0), (2, 1), (2, 2), (2, 3), (2, 4), (3, 0), (3, 1), (3, 2), (3, 3), (3, 4), (4, 0), (4, 1), (4, 2), (4, 3), (4, 4)]\n",
      "[(0, 1), (0, 2), (0, 3), (0, 4), (1, 2), (1, 3), (1, 4), (2, 3), (2, 4), (3, 4)]\n"
     ]
    }
   ],
   "source": [
    "# commonly used builtins\n",
    "# combinations\n",
    "from itertools import product, combinations\n",
    "n = 5\n",
    "print(list(product(*[range(n), range(n)])))  # all combinations\n",
    "print(list(combinations(range(n), r=2)))  # unique combinations\n"
   ]
  },
  {
   "cell_type": "code",
   "execution_count": null,
   "metadata": {},
   "outputs": [],
   "source": [
    "# numpy\n",
    "import numpy as np\n",
    "x = np.random.uniform(size=(3, 2, 2))\n",
    "x = np.expand_dims(x, axis=-2)\n",
    "print(x.shape)"
   ]
  },
  {
   "cell_type": "code",
   "execution_count": null,
   "metadata": {},
   "outputs": [],
   "source": [
    "\n",
    "# := variable assignment in expression python >=3.8\n",
    "# where f(x) is expensive to compute\n",
    "# lazy := / delayed lambda evaluation\n",
    "(z := [y := f(x), y**2, y**3])\n",
    "# or\n",
    "z = lambda: [y := f(x), y**2, y**3]\n",
    "\n",
    "# getting types from a function\n",
    "import inspect\n",
    "sig = inspect.signature(z)\n",
    "sig.parameters['arg'].annotation\n",
    "\n",
    "# evaluating a string as python\n",
    "import ast\n",
    "ast.literal_eval([bytes, numbers, tuples, lists, dicts, sets, booleans, None, Ellipsis])"
   ]
  },
  {
   "cell_type": "code",
   "execution_count": null,
   "metadata": {},
   "outputs": [],
   "source": [
    "from dataclasses import dataclass\n",
    "\n",
    "@dataclass\n",
    "class BaseConfig:\n",
    "    Name: str = 'Max'\n",
    "    Country: str = 'Denmark'\n",
    "    Age: int = 30\n",
    "    Float: float = 0.01\n",
    "\n",
    "fields(BaseConfig)\n"
   ]
  },
  {
   "cell_type": "code",
   "execution_count": null,
   "metadata": {},
   "outputs": [
    {
     "ename": "",
     "evalue": "",
     "output_type": "error",
     "traceback": [
      "\u001b[1;31mRunning cells with 'Python 3.9.13 ('base')' requires ipykernel package.\n",
      "\u001b[1;31mRun the following command to install 'ipykernel' into the Python environment. \n",
      "\u001b[1;31mCommand: 'conda install -n base ipykernel --update-deps --force-reinstall'"
     ]
    }
   ],
   "source": [
    "from typing import Any\n",
    "\n",
    "class ClassFromDict():\n",
    "    def __init__(self, args) -> None:\n",
    "        self.args = args\n",
    "\n",
    "    def __getattribute__(self, __name: str) -> Any:\n",
    "        print(__name)\n",
    "        return self.args[__name]\n",
    "\n",
    "args = {'max': 'y', 'boop': 1, 'things': 1.1}\n",
    "\n",
    "cfg = Config(args)\n",
    "\n",
    "cfg.max"
   ]
  },
  {
   "cell_type": "code",
   "execution_count": null,
   "metadata": {},
   "outputs": [
    {
     "ename": "",
     "evalue": "",
     "output_type": "error",
     "traceback": [
      "\u001b[1;31mRunning cells with 'Python 3.9.13 ('bigmap')' requires ipykernel package.\n",
      "\u001b[1;31mRun the following command to install 'ipykernel' into the Python environment. \n",
      "\u001b[1;31mCommand: 'conda install -n bigmap ipykernel --update-deps --force-reinstall'"
     ]
    }
   ],
   "source": [
    "print('hellp')"
   ]
  },
  {
   "cell_type": "code",
   "execution_count": null,
   "metadata": {},
   "outputs": [],
   "source": []
  }
 ],
 "metadata": {
  "kernelspec": {
   "display_name": "Python 3.9.13 ('base')",
   "language": "python",
   "name": "python3"
  },
  "language_info": {
   "codemirror_mode": {
    "name": "ipython",
    "version": 3
   },
   "file_extension": ".py",
   "mimetype": "text/x-python",
   "name": "python",
   "nbconvert_exporter": "python",
   "pygments_lexer": "ipython3",
   "version": "3.9.13"
  },
  "orig_nbformat": 4,
  "vscode": {
   "interpreter": {
    "hash": "9ef3455c11adc99ecd9b488e684bcbc77bd6545585a955f4918bfb4df6012209"
   }
  }
 },
 "nbformat": 4,
 "nbformat_minor": 2
}
