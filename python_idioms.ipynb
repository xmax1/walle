{
 "cells": [
  {
   "cell_type": "markdown",
   "metadata": {},
   "source": [
    "\n",
    "Markdown cheatsheet  \n",
    "https://www.ibm.com/docs/en/watson-studio-local/1.2.3?topic=notebooks-markdown-jupyter-cheatsheet\n",
    "\n",
    "Notes  \n",
    "1. Double space after end of line  \n",
    "2. '>' block quote  \n",
    "\n",
    "> like this\n",
    "\n",
    "3. code blocks tab (4 spaces)  \n",
    "\n",
    "        like this  \n",
    "    for python\n",
    "```python\n",
    "        fn(x=1)\n",
    "```\n",
    "4. image \\![Tux, the Linux mascot](/assets/images/tux.png) I guess \\!\\[description\\]\\(path\\)  \n",
    "5. y cell goes to code\n",
    "6. m cell goes to markdown\n"
   ]
  },
  {
   "cell_type": "code",
   "execution_count": null,
   "metadata": {},
   "outputs": [],
   "source": [
    "# debugging\n",
    "# python -dbm\n",
    "# https://medium.com/analytics-vidhya/are-you-writing-print-statements-to-debug-your-python-code-690e6ba098e9"
   ]
  },
  {
   "cell_type": "code",
   "execution_count": null,
   "metadata": {},
   "outputs": [],
   "source": [
    "# slurm\n",
    "# python -u unbuffers print statements\n",
    "# https://stackoverflow.com/questions/33178514/how-do-i-save-print-statements-when-running-a-program-in-slurm"
   ]
  },
  {
   "cell_type": "code",
   "execution_count": 5,
   "metadata": {},
   "outputs": [
    {
     "name": "stdout",
     "output_type": "stream",
     "text": [
      "[(0, 0), (0, 1), (0, 2), (0, 3), (0, 4), (1, 0), (1, 1), (1, 2), (1, 3), (1, 4), (2, 0), (2, 1), (2, 2), (2, 3), (2, 4), (3, 0), (3, 1), (3, 2), (3, 3), (3, 4), (4, 0), (4, 1), (4, 2), (4, 3), (4, 4)]\n",
      "[(0, 1), (0, 2), (0, 3), (0, 4), (1, 2), (1, 3), (1, 4), (2, 3), (2, 4), (3, 4)]\n",
      "[(range(0, 5), range(0, 6)), (range(0, 6), range(0, 5))]\n"
     ]
    }
   ],
   "source": [
    "# commonly used builtins\n",
    "# combinations\n",
    "from itertools import product, combinations, permutations\n",
    "n = 5\n",
    "print(list(product(*[range(n), range(n)])))  # all combinations\n",
    "\n",
    "print(list(combinations(range(n), r=2)))  # unique combinations\n",
    "print(list(permutations([range(n), range(n+1)], r=2)))  # unique combinations"
   ]
  },
  {
   "cell_type": "code",
   "execution_count": null,
   "metadata": {},
   "outputs": [],
   "source": [
    "%load_ext autoreload\n",
    "%autoreload 2"
   ]
  },
  {
   "cell_type": "code",
   "execution_count": null,
   "metadata": {},
   "outputs": [],
   "source": [
    "# numpy\n",
    "import numpy as np\n",
    "x = np.random.uniform(size=(3, 2, 2))\n",
    "x = np.expand_dims(x, axis=-2)\n",
    "print(x.shape)"
   ]
  },
  {
   "cell_type": "code",
   "execution_count": null,
   "metadata": {},
   "outputs": [],
   "source": [
    "\n",
    "# := variable assignment in expression python >=3.8\n",
    "# where f(x) is expensive to compute\n",
    "# lazy := / delayed lambda evaluation\n",
    "(z := [y := f(x), y**2, y**3])\n",
    "# or\n",
    "z = lambda: [y := f(x), y**2, y**3]\n",
    "\n",
    "# getting types from a function\n",
    "import inspect\n",
    "sig = inspect.signature(z)\n",
    "sig.parameters['arg'].annotation\n",
    "\n",
    "# evaluating a string as python\n",
    "import ast\n",
    "ast.literal_eval([bytes, numbers, tuples, lists, dicts, sets, booleans, None, Ellipsis])"
   ]
  },
  {
   "cell_type": "code",
   "execution_count": null,
   "metadata": {},
   "outputs": [],
   "source": [
    "from dataclasses import dataclass\n",
    "\n",
    "@dataclass\n",
    "class BaseConfig:\n",
    "    Name: str = 'Max'\n",
    "    Country: str = 'Denmark'\n",
    "    Age: int = 30\n",
    "    Float: float = 0.01\n",
    "\n",
    "fields(BaseConfig)\n"
   ]
  },
  {
   "cell_type": "code",
   "execution_count": 12,
   "metadata": {},
   "outputs": [
    {
     "name": "stdout",
     "output_type": "stream",
     "text": [
      "y\n",
      "y None\n"
     ]
    },
    {
     "data": {
      "text/plain": [
       "1"
      ]
     },
     "execution_count": 12,
     "metadata": {},
     "output_type": "execute_result"
    }
   ],
   "source": [
    "from typing import Any\n",
    "\n",
    "class ClassFromDict():\n",
    "    \n",
    "    def __init__(self, args: dict) -> None:\n",
    "        self.d = args\n",
    "        for k, v in args.items():\n",
    "            setattr(self, k, v)\n",
    "\n",
    "        self.i = 1\n",
    "        self.name = ''\n",
    "\n",
    "    def __setattr__(self, __name: str, __value: Any) -> None:\n",
    "        # setattr(self, __name, __value)\n",
    "        # if self.i == 1 and self.__name == __name:\n",
    "        #     exit\n",
    "        # self.name = __name\n",
    "        # self.i += 1\n",
    "\n",
    "        self.__dict__[__name] = __value\n",
    "        self.d[__name] = __value\n",
    "    \n",
    "\n",
    "    def get(self, name: str, alternate: str | None = None) -> Any:\n",
    "        return self.d.get(name, alternate)\n",
    "\n",
    "    # def __getattribute__(self, __name: str) -> Any:\n",
    "    #     print(__name)\n",
    "    #     return self.args[__name]\n",
    "\n",
    "args = {'max': 'y', 'boop': 1, 'things': 1.1}\n",
    "\n",
    "cfg = ClassFromDict(args)\n",
    "\n",
    "print(cfg.max)\n",
    "\n",
    "print(cfg.get('max'), cfg.get('not', None))\n",
    "\n",
    "cfg.max = 1\n",
    "\n",
    "cfg.d['i']"
   ]
  },
  {
   "cell_type": "code",
   "execution_count": 6,
   "metadata": {},
   "outputs": [
    {
     "name": "stdout",
     "output_type": "stream",
     "text": [
      "C:\\Users\\amwil\\projects\\walle\\src .ipynb python_idioms\n",
      "C:\\Users\\amwil\\projects\\walle\\src\\python_idioms.ipynb\n"
     ]
    }
   ],
   "source": [
    "# https://realpython.com/python-pathlib\n",
    "\n",
    "from pathlib import Path\n",
    "path = Path(r\"C:\\Users\\amwil\\projects\\walle\\src\\python_idioms.ipynb\")\n",
    "parent = path.parent\n",
    "suffix = path.suffix\n",
    "stem = path.stem\n",
    "\n",
    "print(parent, suffix, stem)\n",
    "\n",
    "print(path)\n"
   ]
  },
  {
   "cell_type": "code",
   "execution_count": 3,
   "metadata": {},
   "outputs": [
    {
     "name": "stdout",
     "output_type": "stream",
     "text": [
      "1.5\n"
     ]
    }
   ],
   "source": [
    "from dataclasses import dataclass\n",
    "\n",
    "@dataclass\n",
    "class Test:\n",
    "    max: int = 1\n",
    "    jess: float = 0.5\n",
    "\n",
    "    def __post_init__(self):\n",
    "        print(self.max + self.jess)\n",
    "\n",
    "\n",
    "test = Test()"
   ]
  },
  {
   "cell_type": "code",
   "execution_count": null,
   "metadata": {},
   "outputs": [],
   "source": []
  }
 ],
 "metadata": {
  "kernelspec": {
   "display_name": "Python 3.10.4 ('boop')",
   "language": "python",
   "name": "python3"
  },
  "language_info": {
   "codemirror_mode": {
    "name": "ipython",
    "version": 3
   },
   "file_extension": ".py",
   "mimetype": "text/x-python",
   "name": "python",
   "nbconvert_exporter": "python",
   "pygments_lexer": "ipython3",
   "version": "3.10.4"
  },
  "orig_nbformat": 4,
  "vscode": {
   "interpreter": {
    "hash": "e5f022033e52a3e9bf5818456d7e6a408f77f34cc0c5539a7328093dc10275b1"
   }
  }
 },
 "nbformat": 4,
 "nbformat_minor": 2
}
